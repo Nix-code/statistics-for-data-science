{
 "cells": [
  {
   "cell_type": "code",
   "execution_count": 2,
   "id": "14d9e55f",
   "metadata": {},
   "outputs": [],
   "source": [
    "import numpy as np\n",
    "import random\n"
   ]
  },
  {
   "cell_type": "markdown",
   "id": "e5fcc745",
   "metadata": {},
   "source": [
    "### Standard Error"
   ]
  },
  {
   "cell_type": "markdown",
   "id": "3d26a4cc",
   "metadata": {},
   "source": [
    "Standard Error measures how far the sample mean of data is likely to be from the true population mean\n",
    "As the sample size increases, the standard error decreases"
   ]
  },
  {
   "cell_type": "code",
   "execution_count": 3,
   "id": "bb26eeb8",
   "metadata": {},
   "outputs": [],
   "source": [
    "l=[]\n",
    "for i in range(1000):\n",
    "    l.append(np.random.randint(1,1000))\n",
    "x = np.array(l)\n"
   ]
  },
  {
   "cell_type": "code",
   "execution_count": 4,
   "id": "58a8fcc2",
   "metadata": {},
   "outputs": [
    {
     "name": "stdout",
     "output_type": "stream",
     "text": [
      "512.663\n"
     ]
    }
   ],
   "source": [
    "mu = x.mean()\n",
    "print(mu)"
   ]
  },
  {
   "cell_type": "markdown",
   "id": "0b293e13",
   "metadata": {},
   "source": [
    "The standard deviation (SD) measures the amount of variability, or dispersion, from the individual data values to the mean,"
   ]
  },
  {
   "cell_type": "code",
   "execution_count": 5,
   "id": "8500517d",
   "metadata": {},
   "outputs": [],
   "source": [
    "st = x.std()\n"
   ]
  },
  {
   "cell_type": "code",
   "execution_count": 6,
   "id": "032d267a",
   "metadata": {},
   "outputs": [],
   "source": [
    "standard_error = st/np.sqrt(len(x))"
   ]
  },
  {
   "cell_type": "code",
   "execution_count": 7,
   "id": "3e6c56e9",
   "metadata": {},
   "outputs": [
    {
     "name": "stdout",
     "output_type": "stream",
     "text": [
      "9.21313624294138\n"
     ]
    }
   ],
   "source": [
    "print(standard_error)"
   ]
  },
  {
   "cell_type": "code",
   "execution_count": 8,
   "id": "ab1ae70a",
   "metadata": {},
   "outputs": [],
   "source": [
    "x_l = list(x)"
   ]
  },
  {
   "cell_type": "code",
   "execution_count": 9,
   "id": "64787c64",
   "metadata": {},
   "outputs": [],
   "source": [
    "x_samp = random.sample(x_l,90)"
   ]
  },
  {
   "cell_type": "code",
   "execution_count": 10,
   "id": "56907892",
   "metadata": {},
   "outputs": [
    {
     "data": {
      "text/plain": [
       "460.6222222222222"
      ]
     },
     "execution_count": 10,
     "metadata": {},
     "output_type": "execute_result"
    }
   ],
   "source": [
    "samp= np.array(x_samp)\n",
    "samp.mean()"
   ]
  },
  {
   "cell_type": "code",
   "execution_count": 11,
   "id": "3048d88b",
   "metadata": {},
   "outputs": [
    {
     "data": {
      "text/plain": [
       "31.753975459397118"
      ]
     },
     "execution_count": 11,
     "metadata": {},
     "output_type": "execute_result"
    }
   ],
   "source": [
    "serror = samp.std()/np.sqrt(len(samp))\n",
    "serror"
   ]
  },
  {
   "cell_type": "markdown",
   "id": "3d253193",
   "metadata": {},
   "source": [
    "#### Try to change the sample size, more the sample size, more will be the accuracy"
   ]
  },
  {
   "cell_type": "code",
   "execution_count": 12,
   "id": "52c72339",
   "metadata": {},
   "outputs": [],
   "source": [
    "from sklearn.utils import resample,shuffle\n",
    "import pandas as pd"
   ]
  },
  {
   "cell_type": "markdown",
   "id": "53f941f9",
   "metadata": {},
   "source": [
    "#### Bootstrapping method"
   ]
  },
  {
   "cell_type": "code",
   "execution_count": 13,
   "id": "2a4d3d97",
   "metadata": {},
   "outputs": [],
   "source": [
    "import matplotlib.pyplot as plt"
   ]
  },
  {
   "cell_type": "code",
   "execution_count": 14,
   "id": "a677334e",
   "metadata": {},
   "outputs": [],
   "source": [
    "my_samples = []\n",
    "for _ in range(5000):\n",
    "    p = np.random.choice(x, size=300, replace=True)\n",
    "    my_samples.append(p.mean())"
   ]
  },
  {
   "cell_type": "code",
   "execution_count": 15,
   "id": "5da7a0d7",
   "metadata": {},
   "outputs": [
    {
     "data": {
      "text/plain": [
       "(array([30., 37., 33., 37., 25., 28., 18., 25., 35., 32.]),\n",
       " array([  6. , 105.3, 204.6, 303.9, 403.2, 502.5, 601.8, 701.1, 800.4,\n",
       "        899.7, 999. ]),\n",
       " <BarContainer object of 10 artists>)"
      ]
     },
     "execution_count": 15,
     "metadata": {},
     "output_type": "execute_result"
    },
    {
     "data": {
      "image/png": "[encoded data removed]",
      "text/plain": [
       "<Figure size 432x288 with 1 Axes>"
      ]
     },
     "metadata": {
      "needs_background": "light"
     },
     "output_type": "display_data"
    }
   ],
   "source": [
    "original = np.random.choice(x,size = 300)\n",
    "plt.hist(original)"
   ]
  },
  {
   "cell_type": "code",
   "execution_count": 16,
   "id": "0e5ad3e5",
   "metadata": {},
   "outputs": [
    {
     "data": {
      "text/plain": [
       "(array([  30.,  193.,  698., 1337., 1494.,  912.,  286.,   43.,    5.,\n",
       "           2.]),\n",
       " array([456.84333333, 470.296     , 483.74866667, 497.20133333,\n",
       "        510.654     , 524.10666667, 537.55933333, 551.012     ,\n",
       "        564.46466667, 577.91733333, 591.37      ]),\n",
       " <BarContainer object of 10 artists>)"
      ]
     },
     "execution_count": 16,
     "metadata": {},
     "output_type": "execute_result"
    },
    {
     "data": {
      "image/png": "[encoded data removed]",
      "text/plain": [
       "<Figure size 432x288 with 1 Axes>"
      ]
     },
     "metadata": {
      "needs_background": "light"
     },
     "output_type": "display_data"
    }
   ],
   "source": [
    "plt.hist(my_samples)"
   ]
  },
  {
   "cell_type": "markdown",
   "id": "9e5a43c6",
   "metadata": {},
   "source": [
    "A primary use of bootstrapping is to estimate the confidence interval of the population mean."
   ]
  },
  {
   "cell_type": "code",
   "execution_count": 17,
   "id": "6f00ef7f",
   "metadata": {},
   "outputs": [
    {
     "data": {
      "text/plain": [
       "(512.0711334529065, 513.0038198804273)"
      ]
     },
     "execution_count": 17,
     "metadata": {},
     "output_type": "execute_result"
    }
   ],
   "source": [
    "import statsmodels.stats.api as sms\n",
    "sms.DescrStatsW(my_samples).tconfint_mean()\n"
   ]
  },
  {
   "cell_type": "markdown",
   "id": "ff5ff3f3",
   "metadata": {},
   "source": [
    "We are 95% confident that the true population mean lies between 512.07 and 513.0038"
   ]
  },
  {
   "cell_type": "code",
   "execution_count": null,
   "id": "6ba7c278",
   "metadata": {},
   "outputs": [],
   "source": []
  },
  {
   "cell_type": "code",
   "execution_count": null,
   "id": "de958d4f",
   "metadata": {},
   "outputs": [],
   "source": []
  },
  {
   "cell_type": "code",
   "execution_count": null,
   "id": "4fb2a947",
   "metadata": {},
   "outputs": [],
   "source": []
  },
  {
   "cell_type": "code",
   "execution_count": null,
   "id": "25fc262d",
   "metadata": {},
   "outputs": [],
   "source": []
  }
 ],
 "metadata": {
  "kernelspec": {
   "display_name": "Python 3 (ipykernel)",
   "language": "python",
   "name": "python3"
  },
  "language_info": {
   "codemirror_mode": {
    "name": "ipython",
    "version": 3
   },
   "file_extension": ".py",
   "mimetype": "text/x-python",
   "name": "python",
   "nbconvert_exporter": "python",
   "pygments_lexer": "ipython3",
   "version": "3.8.10"
  }
 },
 "nbformat": 4,
 "nbformat_minor": 5
}
