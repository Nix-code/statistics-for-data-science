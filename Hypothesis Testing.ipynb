{
 "cells": [
  {
   "cell_type": "markdown",
   "id": "d1255b89",
   "metadata": {},
   "source": [
    "### What is Hypothesis Testing"
   ]
  },
  {
   "cell_type": "markdown",
   "id": "e03dc96c",
   "metadata": {},
   "source": [
    "Method used to make statistical decision.\n",
    "\n",
    "ex: Average temperature in an April is 30 degrees , so we need some statistical way to prove this assumption true"
   ]
  },
  {
   "cell_type": "markdown",
   "id": "4ea1ca22",
   "metadata": {},
   "source": [
    "- A hypothesis test evaluates two mutually exclusive statements about a population to determine which statement is best supported by the sample data"
   ]
  },
  {
   "cell_type": "markdown",
   "id": "1ee1307f",
   "metadata": {},
   "source": [
    "#### Null Hypothesis\n",
    "Basic assumption made on problem\n",
    "- ex: Survery to test people are healthy or not\n",
    "- Null(H0): People are Healthy"
   ]
  },
  {
   "cell_type": "markdown",
   "id": "488578e4",
   "metadata": {},
   "source": [
    "#### Alternate Hypothesis\n",
    "It is contrary to null hypothesis\n",
    "\n",
    "- Ex: People are not Healthy"
   ]
  },
  {
   "cell_type": "markdown",
   "id": "e54cb4be",
   "metadata": {},
   "source": [
    "### Level of Significance\n",
    "- 0.05 , output should be 95% confident to give result"
   ]
  },
  {
   "cell_type": "markdown",
   "id": "ab24f81d",
   "metadata": {},
   "source": [
    "#### Type 1 errors: \n",
    "- We reject the null hypothesis, although the hypothesis was true(alpha)\n",
    "#### Type 2 errors:\n",
    "- We accept the null hypothesis but is false(beta)\n",
    "#### one tailed test\n",
    "- number of bridge longer than 1km\n",
    "#### Two tailed test\n",
    "- number of bridge longer or smaller than 1km"
   ]
  },
  {
   "cell_type": "markdown",
   "id": "4941fb0e",
   "metadata": {},
   "source": [
    "#### T test"
   ]
  },
  {
   "cell_type": "markdown",
   "id": "572a0647",
   "metadata": {},
   "source": [
    "A t-test is a type of inferential statistic used to determine if there is a significant difference between the means of two groups, which may be related in certain features."
   ]
  },
  {
   "cell_type": "markdown",
   "id": "fa7c8e89",
   "metadata": {},
   "source": [
    "#### One sample t-test\n",
    "- The one sample t test determine whether the sample mean is statistically different from a known or hypothesised population mean."
   ]
  },
  {
   "cell_type": "markdown",
   "id": "959b2756",
   "metadata": {},
   "source": [
    "- Example :- you have 10 ages and you are checking whether avg age is 30 or not. (check code below for that using python)"
   ]
  },
  {
   "cell_type": "code",
   "execution_count": 5,
   "id": "a0ae2a14",
   "metadata": {},
   "outputs": [
    {
     "name": "stdout",
     "output_type": "stream",
     "text": [
      "[32, 34, 29, 29, 22, 39, 38, 37, 38, 36, 36, 26, 22, 22]\n"
     ]
    }
   ],
   "source": [
    "from scipy.stats import ttest_1samp\n",
    "import numpy as np\n",
    "\n",
    "age = [32,34,29,29,22,39,38,37,38,36,36,26,22,22]\n",
    "print(age)"
   ]
  },
  {
   "cell_type": "code",
   "execution_count": 6,
   "id": "11948d6c",
   "metadata": {},
   "outputs": [
    {
     "name": "stdout",
     "output_type": "stream",
     "text": [
      "31.428571428571427\n"
     ]
    }
   ],
   "source": [
    "age_mean = np.mean(age)\n",
    "print(age_mean)"
   ]
  },
  {
   "cell_type": "code",
   "execution_count": 7,
   "id": "b54debb5",
   "metadata": {},
   "outputs": [
    {
     "name": "stdout",
     "output_type": "stream",
     "text": [
      "P value  0.41824702596232033\n",
      "We are accepting null hypothesis\n"
     ]
    }
   ],
   "source": [
    "tset, pval = ttest_1samp(age, 30)\n",
    "print(\"P value \",pval)\n",
    "\n",
    "if pval < 0.05:\n",
    "    print(\"Rejecting the null hypothesis\")\n",
    "else:\n",
    "    print(\"We are accepting null hypothesis\")\n",
    "    "
   ]
  },
  {
   "cell_type": "markdown",
   "id": "42b2fb0d",
   "metadata": {},
   "source": [
    "#### Two sample t-test"
   ]
  },
  {
   "cell_type": "markdown",
   "id": "b90e1c05",
   "metadata": {},
   "source": [
    "A two sample t-test is used to test wheter or not the means of two population is equal`"
   ]
  },
  {
   "cell_type": "markdown",
   "id": "322eb378",
   "metadata": {},
   "source": [
    "Researchers want to know whether or not two different species of plants have the same mean height. To test this, they collect a simple random sample of 20 plants from each species.\n",
    "\n",
    "Use the following steps to conduct a two sample t-test to determine if the two species of plants have the same height.\n",
    "- ttest_ind(a, b, equal_var=True)\n",
    "- equal_var: if True, perform a standard independent 2 sample t-test that assumes equal population variances. "
   ]
  },
  {
   "cell_type": "code",
   "execution_count": 8,
   "id": "af60c2f7",
   "metadata": {},
   "outputs": [
    {
     "name": "stdout",
     "output_type": "stream",
     "text": [
      "7.727500000000001 12.260000000000002\n"
     ]
    }
   ],
   "source": [
    "height1 = np.array([14, 15, 15, 16, 13, 8, 14, 17, 16, 14, 19, 20, 21, 15, 15, 16, 16, 13, 14, 12])\n",
    "height2 = np.array([15, 17, 14, 17, 14, 8, 12, 19, 19, 14, 17, 22, 24, 16, 13, 16, 13, 18, 15, 13])\n",
    "\n",
    "# As a rule of thumb, we can assume the populations have equal variances if the ratio of the larger \n",
    "#sample variance to the smaller sample variance is less than 4:1. \n",
    "\n",
    "print(np.var(height1),np.var(height2))"
   ]
  },
  {
   "cell_type": "code",
   "execution_count": 9,
   "id": "e2313e8b",
   "metadata": {},
   "outputs": [
    {
     "data": {
      "text/plain": [
       "Ttest_indResult(statistic=-0.6337397070250238, pvalue=0.5300471010405257)"
      ]
     },
     "execution_count": 9,
     "metadata": {},
     "output_type": "execute_result"
    }
   ],
   "source": [
    "import scipy.stats as stats\n",
    "\n",
    "stats.ttest_ind(a = height1, b = height2, equal_var = True)\n"
   ]
  },
  {
   "cell_type": "markdown",
   "id": "4ec03759",
   "metadata": {},
   "source": [
    "#### Interpretation"
   ]
  },
  {
   "cell_type": "markdown",
   "id": "60fc6ee9",
   "metadata": {},
   "source": [
    "H0 = the two population mean are equal\n",
    "H1 = they ain't equal\n",
    "\n",
    "as p value is greater than p value, we reject null hypothesis.\n",
    "so, we can't say to prove two popn mean are equal"
   ]
  },
  {
   "cell_type": "code",
   "execution_count": null,
   "id": "54506f25",
   "metadata": {},
   "outputs": [],
   "source": []
  },
  {
   "cell_type": "code",
   "execution_count": null,
   "id": "cfc6edb4",
   "metadata": {},
   "outputs": [],
   "source": []
  }
 ],
 "metadata": {
  "kernelspec": {
   "display_name": "Python 3 (ipykernel)",
   "language": "python",
   "name": "python3"
  },
  "language_info": {
   "codemirror_mode": {
    "name": "ipython",
    "version": 3
   },
   "file_extension": ".py",
   "mimetype": "text/x-python",
   "name": "python",
   "nbconvert_exporter": "python",
   "pygments_lexer": "ipython3",
   "version": "3.8.10"
  }
 },
 "nbformat": 4,
 "nbformat_minor": 5
}
