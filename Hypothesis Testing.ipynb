{
 "cells": [
  {
   "cell_type": "markdown",
   "id": "d1255b89",
   "metadata": {},
   "source": [
    "### What is Hypothesis Testing"
   ]
  },
  {
   "cell_type": "markdown",
   "id": "e03dc96c",
   "metadata": {},
   "source": [
    "Method used to make statistical decision.\n",
    "\n",
    "ex: Average temperature in an April is 30 degrees , so we need some statistical way to prove this assumption true"
   ]
  },
  {
   "cell_type": "markdown",
   "id": "4ea1ca22",
   "metadata": {},
   "source": [
    "- A hypothesis test evaluates two mutually exclusive statements about a population to determine which statement is best supported by the sample data"
   ]
  },
  {
   "cell_type": "markdown",
   "id": "1ee1307f",
   "metadata": {},
   "source": [
    "#### Null Hypothesis\n",
    "Basic assumption made on problem\n",
    "- ex: Survery to test people are healthy or not\n",
    "- Null(H0): People are Healthy"
   ]
  },
  {
   "cell_type": "markdown",
   "id": "488578e4",
   "metadata": {},
   "source": [
    "#### Alternate Hypothesis\n",
    "It is contrary to null hypothesis\n",
    "\n",
    "- Ex: People are not Healthy"
   ]
  },
  {
   "cell_type": "markdown",
   "id": "e54cb4be",
   "metadata": {},
   "source": [
    "### Level of Significance\n",
    "- 0.05 , output should be 95% confident to give result"
   ]
  },
  {
   "cell_type": "markdown",
   "id": "ab24f81d",
   "metadata": {},
   "source": [
    "#### Type 1 errors: \n",
    "- We reject the null hypothesis, although the hypothesis was true(alpha)\n",
    "#### Type 2 errors:\n",
    "- We accept the null hypothesis but is false(beta)\n",
    "#### one tailed test\n",
    "- number of bridge longer than 1km\n",
    "#### Two tailed test\n",
    "- number of bridge longer or smaller than 1km"
   ]
  },
  {
   "cell_type": "markdown",
   "id": "4941fb0e",
   "metadata": {},
   "source": [
    "#### T test"
   ]
  },
  {
   "cell_type": "markdown",
   "id": "572a0647",
   "metadata": {},
   "source": [
    "A t-test is a type of inferential statistic used to determine if there is a significant difference between the means of two groups, which may be related in certain features."
   ]
  },
  {
   "cell_type": "markdown",
   "id": "fa7c8e89",
   "metadata": {},
   "source": [
    "#### One sample t-test\n",
    "- The one sample t test determine whether the sample mean is statistically different from a known or hypothesised population mean."
   ]
  },
  {
   "cell_type": "markdown",
   "id": "959b2756",
   "metadata": {},
   "source": [
    "- Example :- you have 10 ages and you are checking whether avg age is 30 or not. (check code below for that using python)"
   ]
  },
  {
   "cell_type": "code",
   "execution_count": 1,
   "id": "a0ae2a14",
   "metadata": {},
   "outputs": [
    {
     "name": "stdout",
     "output_type": "stream",
     "text": [
      "[32, 34, 29, 29, 22, 39, 38, 37, 38, 36, 36, 26, 22, 22]\n"
     ]
    }
   ],
   "source": [
    "from scipy.stats import ttest_1samp\n",
    "import numpy as np\n",
    "\n",
    "age = [32,34,29,29,22,39,38,37,38,36,36,26,22,22]\n",
    "print(age)"
   ]
  },
  {
   "cell_type": "code",
   "execution_count": 2,
   "id": "11948d6c",
   "metadata": {},
   "outputs": [
    {
     "name": "stdout",
     "output_type": "stream",
     "text": [
      "31.428571428571427\n"
     ]
    }
   ],
   "source": [
    "age_mean = np.mean(age)\n",
    "print(age_mean)"
   ]
  },
  {
   "cell_type": "code",
   "execution_count": 3,
   "id": "b54debb5",
   "metadata": {},
   "outputs": [
    {
     "name": "stdout",
     "output_type": "stream",
     "text": [
      "P value  0.41824702596232033\n",
      "We are accepting null hypothesis\n"
     ]
    }
   ],
   "source": [
    "tset, pval = ttest_1samp(age, 30)\n",
    "print(\"P value \",pval)\n",
    "\n",
    "if pval < 0.05:\n",
    "    print(\"Rejecting the null hypothesis\")\n",
    "else:\n",
    "    print(\"We are accepting null hypothesis\")\n",
    "    "
   ]
  },
  {
   "cell_type": "markdown",
   "id": "42b2fb0d",
   "metadata": {},
   "source": [
    "#### Two sample t-test"
   ]
  },
  {
   "cell_type": "markdown",
   "id": "b90e1c05",
   "metadata": {},
   "source": [
    "A two sample t-test is used to test wheter or not the means of two population is equal`"
   ]
  },
  {
   "cell_type": "markdown",
   "id": "322eb378",
   "metadata": {},
   "source": [
    "Researchers want to know whether or not two different species of plants have the same mean height. To test this, they collect a simple random sample of 20 plants from each species.\n",
    "\n",
    "Use the following steps to conduct a two sample t-test to determine if the two species of plants have the same height.\n",
    "- ttest_ind(a, b, equal_var=True)\n",
    "- equal_var: if True, perform a standard independent 2 sample t-test that assumes equal population variances. "
   ]
  },
  {
   "cell_type": "code",
   "execution_count": 4,
   "id": "af60c2f7",
   "metadata": {},
   "outputs": [
    {
     "name": "stdout",
     "output_type": "stream",
     "text": [
      "7.727500000000001 12.260000000000002\n"
     ]
    }
   ],
   "source": [
    "height1 = np.array([14, 15, 15, 16, 13, 8, 14, 17, 16, 14, 19, 20, 21, 15, 15, 16, 16, 13, 14, 12])\n",
    "height2 = np.array([15, 17, 14, 17, 14, 8, 12, 19, 19, 14, 17, 22, 24, 16, 13, 16, 13, 18, 15, 13])\n",
    "\n",
    "# As a rule of thumb, we can assume the populations have equal variances if the ratio of the larger \n",
    "#sample variance to the smaller sample variance is less than 4:1. \n",
    "\n",
    "print(np.var(height1),np.var(height2))"
   ]
  },
  {
   "cell_type": "code",
   "execution_count": 5,
   "id": "e2313e8b",
   "metadata": {},
   "outputs": [
    {
     "data": {
      "text/plain": [
       "Ttest_indResult(statistic=-0.6337397070250238, pvalue=0.5300471010405257)"
      ]
     },
     "execution_count": 5,
     "metadata": {},
     "output_type": "execute_result"
    }
   ],
   "source": [
    "import scipy.stats as stats\n",
    "\n",
    "stats.ttest_ind(a = height1, b = height2, equal_var = True)\n"
   ]
  },
  {
   "cell_type": "markdown",
   "id": "4ec03759",
   "metadata": {},
   "source": [
    "#### Interpretation"
   ]
  },
  {
   "cell_type": "markdown",
   "id": "60fc6ee9",
   "metadata": {},
   "source": [
    "H0 = the two population mean are equal\n",
    "H1 = they ain't equal\n",
    "\n",
    "as p value is greater than p value, we reject null hypothesis.\n",
    "so, we can't say to prove two popn mean are equal"
   ]
  },
  {
   "cell_type": "markdown",
   "id": "52e9b869",
   "metadata": {},
   "source": [
    "#### Paired Sample Test"
   ]
  },
  {
   "cell_type": "markdown",
   "id": "0d55155f",
   "metadata": {},
   "source": [
    "The paired sample t-test is also called dependent sample t-test. It's an uni variate test that tests for a significant different between 2 related variables."
   ]
  },
  {
   "cell_type": "markdown",
   "id": "cab09bd3",
   "metadata": {},
   "source": [
    "- An example of this is if you where to collect the blood pressure for an individual before and after some treatment, condition, or time point.\n"
   ]
  },
  {
   "cell_type": "code",
   "execution_count": 6,
   "id": "12783c60",
   "metadata": {},
   "outputs": [],
   "source": [
    "# h0 = mean difference between the sample is 0\n",
    "# mean difference between twoo sample is not 0\n",
    "import numpy as np"
   ]
  },
  {
   "cell_type": "code",
   "execution_count": 7,
   "id": "cfc6edb4",
   "metadata": {},
   "outputs": [],
   "source": [
    "\n",
    "l1 = []\n",
    "for i in range(20):\n",
    "    blood1 = np.random.randint(60,120)\n",
    "    l1.append(blood1)\n",
    "\n",
    "    "
   ]
  },
  {
   "cell_type": "code",
   "execution_count": 8,
   "id": "ed54f5bc",
   "metadata": {},
   "outputs": [],
   "source": [
    "\n",
    "l2 = []\n",
    "for i in range(20):\n",
    "    blood2 = np.random.randint(60,120)\n",
    "    l2.append(blood2)\n",
    "\n",
    "    "
   ]
  },
  {
   "cell_type": "code",
   "execution_count": 9,
   "id": "507962a3",
   "metadata": {},
   "outputs": [],
   "source": [
    "b1 = np.array(l1)\n",
    "b2 = np.array(l2)"
   ]
  },
  {
   "cell_type": "code",
   "execution_count": 10,
   "id": "83ef22c8",
   "metadata": {},
   "outputs": [
    {
     "name": "stdout",
     "output_type": "stream",
     "text": [
      "0.8543687892643127\n",
      "accept the null hypothesis\n"
     ]
    }
   ],
   "source": [
    "ttest,pval = stats.ttest_rel(b1,b2)\n",
    "print(pval)\n",
    "if pval <0.05:\n",
    "    print(\"Reject the null hypothesis\")\n",
    "else:\n",
    "    print(\"accept the null hypothesis\")"
   ]
  },
  {
   "cell_type": "markdown",
   "id": "7e8f6a38",
   "metadata": {},
   "source": [
    "- several different types of test are there in stat\n",
    "\n",
    "you can use Z test if\n",
    "- sample size > 30, else use t test\n",
    "- Data should be independent to eachother\n",
    "- Normal distribution\n",
    "- random sampling "
   ]
  },
  {
   "cell_type": "markdown",
   "id": "cb1f72e2",
   "metadata": {},
   "source": [
    "#### One sample z-test"
   ]
  },
  {
   "cell_type": "code",
   "execution_count": 11,
   "id": "dc0243be",
   "metadata": {},
   "outputs": [
    {
     "data": {
      "text/html": [
       "<div>\n",
       "<style scoped>\n",
       "    .dataframe tbody tr th:only-of-type {\n",
       "        vertical-align: middle;\n",
       "    }\n",
       "\n",
       "    .dataframe tbody tr th {\n",
       "        vertical-align: top;\n",
       "    }\n",
       "\n",
       "    .dataframe thead th {\n",
       "        text-align: right;\n",
       "    }\n",
       "</style>\n",
       "<table border=\"1\" class=\"dataframe\">\n",
       "  <thead>\n",
       "    <tr style=\"text-align: right;\">\n",
       "      <th></th>\n",
       "      <th>patient</th>\n",
       "      <th>sex</th>\n",
       "      <th>agegrp</th>\n",
       "      <th>bp_before</th>\n",
       "      <th>bp_after</th>\n",
       "    </tr>\n",
       "  </thead>\n",
       "  <tbody>\n",
       "    <tr>\n",
       "      <th>0</th>\n",
       "      <td>1</td>\n",
       "      <td>Male</td>\n",
       "      <td>30-45</td>\n",
       "      <td>143</td>\n",
       "      <td>153</td>\n",
       "    </tr>\n",
       "    <tr>\n",
       "      <th>1</th>\n",
       "      <td>2</td>\n",
       "      <td>Male</td>\n",
       "      <td>30-45</td>\n",
       "      <td>163</td>\n",
       "      <td>170</td>\n",
       "    </tr>\n",
       "    <tr>\n",
       "      <th>2</th>\n",
       "      <td>3</td>\n",
       "      <td>Male</td>\n",
       "      <td>30-45</td>\n",
       "      <td>153</td>\n",
       "      <td>168</td>\n",
       "    </tr>\n",
       "    <tr>\n",
       "      <th>3</th>\n",
       "      <td>4</td>\n",
       "      <td>Male</td>\n",
       "      <td>30-45</td>\n",
       "      <td>153</td>\n",
       "      <td>142</td>\n",
       "    </tr>\n",
       "    <tr>\n",
       "      <th>4</th>\n",
       "      <td>5</td>\n",
       "      <td>Male</td>\n",
       "      <td>30-45</td>\n",
       "      <td>146</td>\n",
       "      <td>141</td>\n",
       "    </tr>\n",
       "  </tbody>\n",
       "</table>\n",
       "</div>"
      ],
      "text/plain": [
       "   patient   sex agegrp  bp_before  bp_after\n",
       "0        1  Male  30-45        143       153\n",
       "1        2  Male  30-45        163       170\n",
       "2        3  Male  30-45        153       168\n",
       "3        4  Male  30-45        153       142\n",
       "4        5  Male  30-45        146       141"
      ]
     },
     "execution_count": 11,
     "metadata": {},
     "output_type": "execute_result"
    }
   ],
   "source": [
    "import pandas as pd\n",
    "df = pd.read_csv(\"blood.csv\")\n",
    "df.head()"
   ]
  },
  {
   "cell_type": "code",
   "execution_count": 19,
   "id": "434f37e6",
   "metadata": {},
   "outputs": [
    {
     "name": "stdout",
     "output_type": "stream",
     "text": [
      "0.6651614730255063\n",
      "accept the null hypothesis\n"
     ]
    }
   ],
   "source": [
    "from statsmodels.stats import weightstats as stests\n",
    "ztest, pval = stests.ztest(df[\"bp_before\"],x2 = None,value = 156)\n",
    "print(pval)\n",
    "if pval <0.05:\n",
    "    print(\"Reject the null hypothesis\")\n",
    "else:\n",
    "    print(\"accept the null hypothesis\")"
   ]
  },
  {
   "cell_type": "markdown",
   "id": "4416eb35",
   "metadata": {},
   "source": [
    "#### Two sample z test"
   ]
  },
  {
   "cell_type": "markdown",
   "id": "f0c9280a",
   "metadata": {},
   "source": [
    "similar to t-test here, we are checking two independent data groups and deciding whether sample mean of two groups is equal or not"
   ]
  },
  {
   "cell_type": "markdown",
   "id": "198eaf30",
   "metadata": {},
   "source": [
    "- H0 mean of two groups is 0\n",
    "- H1 mean of two groups is not 0\n",
    "\n",
    "after applying ztest, mean = 0, std = 1"
   ]
  },
  {
   "cell_type": "code",
   "execution_count": 27,
   "id": "8e35bda8",
   "metadata": {},
   "outputs": [
    {
     "name": "stdout",
     "output_type": "stream",
     "text": [
      "0.002162306611369422\n"
     ]
    }
   ],
   "source": [
    "ztest, pval = stests.ztest(df['bp_before'],x2=df['bp_after'], value = 0, alternative = 'two-sided')\n",
    "print(float(pval))"
   ]
  },
  {
   "cell_type": "code",
   "execution_count": 26,
   "id": "6686a74a",
   "metadata": {},
   "outputs": [
    {
     "name": "stdout",
     "output_type": "stream",
     "text": [
      "Reject the Null hypothesis\n"
     ]
    }
   ],
   "source": [
    "if pval < 0.05:\n",
    "    print(\"Reject the Null hypothesis\")\n",
    "else:\n",
    "    print(\"accept H1\")"
   ]
  },
  {
   "cell_type": "markdown",
   "id": "eccb1ba8",
   "metadata": {},
   "source": [
    "(Try in a sample before finding conclusion in overall population)\n",
    "- one categorical = one sample propotional test\n",
    "- two categorical = chi square\n",
    "- one continuous = t test\n",
    "- two numerical = correlation\n",
    "- one numerical varibale, one or two categorical(more than 2 category) = Anova test\n",
    "- one numerical, 1 categorical(only two category) = T test\n",
    "- p means  significance value\n",
    "\n",
    "\n",
    "- p < 0.05  means, pvalue falls in 0.25 tail region of normal distribution\n",
    "#### so, we reject it\n",
    "\n",
    "- p means, say mouse pad touch \n",
    "\n",
    "Test is done with two mutually exclusive events (independent with each other)\n",
    "For more events go with anova"
   ]
  },
  {
   "cell_type": "markdown",
   "id": "908cae6f",
   "metadata": {},
   "source": [
    "#### Chi-Square test"
   ]
  },
  {
   "cell_type": "markdown",
   "id": "4de32828",
   "metadata": {},
   "source": [
    "This test is applied when you have two categorical variables from a single population. It is used to determine whether there is a significant associaltion between the two variables"
   ]
  },
  {
   "cell_type": "markdown",
   "id": "7f38648e",
   "metadata": {},
   "source": [
    "- Gender : Male female\n",
    "- vote : Democrat, Republican, Independent"
   ]
  },
  {
   "cell_type": "code",
   "execution_count": null,
   "id": "5bfcb02d",
   "metadata": {},
   "outputs": [],
   "source": [
    "df = pd"
   ]
  },
  {
   "cell_type": "code",
   "execution_count": null,
   "id": "7aeade6b",
   "metadata": {},
   "outputs": [],
   "source": []
  }
 ],
 "metadata": {
  "kernelspec": {
   "display_name": "Python 3 (ipykernel)",
   "language": "python",
   "name": "python3"
  },
  "language_info": {
   "codemirror_mode": {
    "name": "ipython",
    "version": 3
   },
   "file_extension": ".py",
   "mimetype": "text/x-python",
   "name": "python",
   "nbconvert_exporter": "python",
   "pygments_lexer": "ipython3",
   "version": "3.8.10"
  }
 },
 "nbformat": 4,
 "nbformat_minor": 5
}
