{
 "cells": [
  {
   "cell_type": "markdown",
   "id": "d1255b89",
   "metadata": {},
   "source": [
    "### What is Hypothesis Testing"
   ]
  },
  {
   "cell_type": "markdown",
   "id": "e03dc96c",
   "metadata": {},
   "source": [
    "Method used to make statistical decision.\n",
    "\n",
    "ex: Average temperature in an April is 30 degrees , so we need some statistical way to prove this assumption true"
   ]
  },
  {
   "cell_type": "markdown",
   "id": "4ea1ca22",
   "metadata": {},
   "source": [
    "- A hypothesis test evaluates two mutually exclusive statements about a population to determine which statement is best supported by the sample data"
   ]
  },
  {
   "cell_type": "markdown",
   "id": "1ee1307f",
   "metadata": {},
   "source": [
    "### Null Hypothesis\n",
    "Basic assumption made on problem\n",
    "- ex: Survery to test people are healthy or not\n",
    "- Null(H0): People are Healthy"
   ]
  },
  {
   "cell_type": "markdown",
   "id": "488578e4",
   "metadata": {},
   "source": [
    "### Alternate Hypothesis\n",
    "It is contrary to null hypothesis\n",
    "\n",
    "- Ex: People are not Healthy"
   ]
  },
  {
   "cell_type": "markdown",
   "id": "e54cb4be",
   "metadata": {},
   "source": [
    "### Level of Significance\n",
    "- 0.05 , output should be 95% confident to give result"
   ]
  },
  {
   "cell_type": "markdown",
   "id": "ab24f81d",
   "metadata": {},
   "source": [
    "#### Type 1 errors: \n",
    "- We reject the null hypothesis, although the hypothesis was true(alpha)\n",
    "#### Type 2 errors:\n",
    "- We accept the null hypothesis but is false(beta)\n",
    "#### one tailed test\n",
    "- number of bridge longer than 1km\n",
    "#### Two tailed test\n",
    "- number of bridge longer or smaller than 1km"
   ]
  },
  {
   "cell_type": "code",
   "execution_count": null,
   "id": "5a1b7ebf",
   "metadata": {},
   "outputs": [],
   "source": []
  },
  {
   "cell_type": "code",
   "execution_count": null,
   "id": "cfc6edb4",
   "metadata": {},
   "outputs": [],
   "source": []
  }
 ],
 "metadata": {
  "kernelspec": {
   "display_name": "Python 3 (ipykernel)",
   "language": "python",
   "name": "python3"
  },
  "language_info": {
   "codemirror_mode": {
    "name": "ipython",
    "version": 3
   },
   "file_extension": ".py",
   "mimetype": "text/x-python",
   "name": "python",
   "nbconvert_exporter": "python",
   "pygments_lexer": "ipython3",
   "version": "3.8.10"
  }
 },
 "nbformat": 4,
 "nbformat_minor": 5
}
