{
 "cells": [
  {
   "cell_type": "markdown",
   "id": "7b5bef0e",
   "metadata": {},
   "source": [
    "#### Confidence Interval"
   ]
  },
  {
   "cell_type": "markdown",
   "id": "b58bd43f",
   "metadata": {},
   "source": [
    "A confidence interval for a eman is a range of values that is likely to contain a population mean with a certain level of confidence"
   ]
  },
  {
   "cell_type": "markdown",
   "id": "20cc2fe9",
   "metadata": {},
   "source": [
    "#### Confidence Intervals using the t Distributions\n"
   ]
  },
  {
   "cell_type": "markdown",
   "id": "b07d66b4",
   "metadata": {},
   "source": [
    "Applicable for small samples say n <30\n",
    "\n",
    "The following example shows how to calculate a confidence interval for the true population mean height (in inches) of a certain species of plant, using a sample of 15 plants:\n",
    "\n"
   ]
  },
  {
   "cell_type": "code",
   "execution_count": 3,
   "id": "9fc13db5",
   "metadata": {},
   "outputs": [
    {
     "data": {
      "text/plain": [
       "(13.944814531204106, 19.78851880212923)"
      ]
     },
     "execution_count": 3,
     "metadata": {},
     "output_type": "execute_result"
    }
   ],
   "source": [
    "import numpy as np\n",
    "import scipy.stats as st\n",
    "\n",
    "data = [12,11,13,25,26,11,21,23,22,12,13,14,15,17,18]\n",
    "\n",
    "# create 95% confidence interval for population\n",
    "\n",
    "st.t.interval(alpha = 0.95, df = len(data)-1, loc = np.mean(data), scale = st.sem(data))"
   ]
  },
  {
   "cell_type": "markdown",
   "id": "405eaae7",
   "metadata": {},
   "source": [
    "we are 95% confident that the population mean height of the plant lies between 13.94 to 19.78"
   ]
  },
  {
   "cell_type": "code",
   "execution_count": 30,
   "id": "638891da",
   "metadata": {},
   "outputs": [],
   "source": [
    "l = []\n",
    "for i in range(1000):\n",
    "    \n",
    "    x = np.random.randint(500)\n",
    "    l.append(x)\n",
    "\n"
   ]
  },
  {
   "cell_type": "code",
   "execution_count": 41,
   "id": "7e8f2f84",
   "metadata": {},
   "outputs": [],
   "source": [
    "sample = []\n",
    "for i in range(300):\n",
    "    sample.append(np.random.choice(l))\n",
    "    "
   ]
  },
  {
   "cell_type": "code",
   "execution_count": 44,
   "id": "6ba92898",
   "metadata": {},
   "outputs": [
    {
     "data": {
      "text/plain": [
       "(array([100., 119.,  98., 103.,  97.,  93., 115.,  93.,  83.,  99.]),\n",
       " array([  0. ,  49.9,  99.8, 149.7, 199.6, 249.5, 299.4, 349.3, 399.2,\n",
       "        449.1, 499. ]),\n",
       " <BarContainer object of 10 artists>)"
      ]
     },
     "execution_count": 44,
     "metadata": {},
     "output_type": "execute_result"
    },
    {
     "data": {
      "image/png": "[encoded data removed]",
      "text/plain": [
       "<Figure size 432x288 with 1 Axes>"
      ]
     },
     "metadata": {
      "needs_background": "light"
     },
     "output_type": "display_data"
    }
   ],
   "source": [
    "import matplotlib.pyplot as plt\n",
    "plt.hist(l)"
   ]
  },
  {
   "cell_type": "code",
   "execution_count": 51,
   "id": "71ea9068",
   "metadata": {},
   "outputs": [],
   "source": [
    "samp_arr = np.array(sample)"
   ]
  },
  {
   "cell_type": "code",
   "execution_count": 52,
   "id": "3bafb3b9",
   "metadata": {},
   "outputs": [],
   "source": [
    "pop_arr = np.array(l)"
   ]
  },
  {
   "cell_type": "code",
   "execution_count": 59,
   "id": "4991940f",
   "metadata": {},
   "outputs": [
    {
     "data": {
      "text/plain": [
       "241.00666666666666"
      ]
     },
     "execution_count": 59,
     "metadata": {},
     "output_type": "execute_result"
    }
   ],
   "source": [
    "samp_arr.mean()"
   ]
  },
  {
   "cell_type": "markdown",
   "id": "a31c226f",
   "metadata": {},
   "source": [
    "#### Lets calculate 50% condifence interval using normal distribution"
   ]
  },
  {
   "cell_type": "code",
   "execution_count": 58,
   "id": "097c348c",
   "metadata": {},
   "outputs": [
    {
     "data": {
      "text/plain": [
       "(235.1839976050304, 246.8293357283029)"
      ]
     },
     "execution_count": 58,
     "metadata": {},
     "output_type": "execute_result"
    }
   ],
   "source": [
    "st.norm.interval(alpha = 0.50, loc=np.mean(sample), scale = st.sem(sample))"
   ]
  },
  {
   "cell_type": "code",
   "execution_count": 56,
   "id": "15eadbcb",
   "metadata": {},
   "outputs": [
    {
     "data": {
      "text/plain": [
       "243.915"
      ]
     },
     "execution_count": 56,
     "metadata": {},
     "output_type": "execute_result"
    }
   ],
   "source": [
    "pop_arr.mean()"
   ]
  },
  {
   "cell_type": "code",
   "execution_count": null,
   "id": "db7890b3",
   "metadata": {},
   "outputs": [],
   "source": []
  }
 ],
 "metadata": {
  "kernelspec": {
   "display_name": "Python 3 (ipykernel)",
   "language": "python",
   "name": "python3"
  },
  "language_info": {
   "codemirror_mode": {
    "name": "ipython",
    "version": 3
   },
   "file_extension": ".py",
   "mimetype": "text/x-python",
   "name": "python",
   "nbconvert_exporter": "python",
   "pygments_lexer": "ipython3",
   "version": "3.8.10"
  }
 },
 "nbformat": 4,
 "nbformat_minor": 5
}
