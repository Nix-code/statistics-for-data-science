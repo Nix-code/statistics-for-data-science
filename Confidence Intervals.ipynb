{
 "cells": [
  {
   "cell_type": "markdown",
   "id": "d0aef43d",
   "metadata": {},
   "source": [
    "#### Confidence Interval"
   ]
  },
  {
   "cell_type": "markdown",
   "id": "f22a166f",
   "metadata": {},
   "source": [
    "A confidence interval for a eman is a range of values that is likely to contain a population mean with a certain level of confidence"
   ]
  },
  {
   "cell_type": "markdown",
   "id": "bbd93580",
   "metadata": {},
   "source": [
    "#### Confidence Intervals using the t Distributions\n"
   ]
  },
  {
   "cell_type": "markdown",
   "id": "7fb4c963",
   "metadata": {},
   "source": [
    "Applicable for small samples say n <30\n",
    "\n",
    "The following example shows how to calculate a confidence interval for the true population mean height (in inches) of a certain species of plant, using a sample of 15 plants:\n",
    "\n"
   ]
  },
  {
   "cell_type": "code",
   "execution_count": 81,
   "id": "a06bffa0",
   "metadata": {},
   "outputs": [
    {
     "data": {
      "text/plain": [
       "(13.944814531204106, 19.78851880212923)"
      ]
     },
     "execution_count": 81,
     "metadata": {},
     "output_type": "execute_result"
    }
   ],
   "source": [
    "import numpy as np\n",
    "import scipy.stats as st\n",
    "\n",
    "data = [12,11,13,25,26,11,21,23,22,12,13,14,15,17,18]\n",
    "\n",
    "# create 95% confidence interval for population\n",
    "\n",
    "st.t.interval(alpha = 0.95, df = len(data)-1, loc = np.mean(data), scale = st.sem(data))"
   ]
  },
  {
   "cell_type": "markdown",
   "id": "3debb491",
   "metadata": {},
   "source": [
    "we are 95% confident that the population mean height of the plant lies between 13.94 to 19.78"
   ]
  },
  {
   "cell_type": "code",
   "execution_count": 82,
   "id": "519f8862",
   "metadata": {},
   "outputs": [],
   "source": [
    "l = []\n",
    "for i in range(1000):\n",
    "    \n",
    "    x = np.random.randint(500)\n",
    "    l.append(x)\n",
    "\n"
   ]
  },
  {
   "cell_type": "code",
   "execution_count": 83,
   "id": "b43f5bf1",
   "metadata": {},
   "outputs": [],
   "source": [
    "sample = []\n",
    "for i in range(300):\n",
    "    sample.append(np.random.choice(l))\n",
    "    "
   ]
  },
  {
   "cell_type": "code",
   "execution_count": 84,
   "id": "10973e7f",
   "metadata": {},
   "outputs": [
    {
     "data": {
      "text/plain": [
       "(array([116., 106.,  97.,  98., 103.,  97., 104.,  98.,  94.,  87.]),\n",
       " array([  0. ,  49.9,  99.8, 149.7, 199.6, 249.5, 299.4, 349.3, 399.2,\n",
       "        449.1, 499. ]),\n",
       " <BarContainer object of 10 artists>)"
      ]
     },
     "execution_count": 84,
     "metadata": {},
     "output_type": "execute_result"
    },
    {
     "data": {
      "image/png": "[encoded data removed]",
      "text/plain": [
       "<Figure size 432x288 with 1 Axes>"
      ]
     },
     "metadata": {
      "needs_background": "light"
     },
     "output_type": "display_data"
    }
   ],
   "source": [
    "import matplotlib.pyplot as plt\n",
    "plt.hist(l)"
   ]
  },
  {
   "cell_type": "code",
   "execution_count": 85,
   "id": "59ee560b",
   "metadata": {},
   "outputs": [],
   "source": [
    "samp_arr = np.array(sample)"
   ]
  },
  {
   "cell_type": "code",
   "execution_count": 86,
   "id": "a095014a",
   "metadata": {},
   "outputs": [],
   "source": [
    "pop_arr = np.array(l)"
   ]
  },
  {
   "cell_type": "code",
   "execution_count": 87,
   "id": "16b2718b",
   "metadata": {},
   "outputs": [
    {
     "data": {
      "text/plain": [
       "246.41"
      ]
     },
     "execution_count": 87,
     "metadata": {},
     "output_type": "execute_result"
    }
   ],
   "source": [
    "samp_arr.mean()"
   ]
  },
  {
   "cell_type": "markdown",
   "id": "67f9e679",
   "metadata": {},
   "source": [
    "#### Lets calculate 50% condifence interval using normal distribution"
   ]
  },
  {
   "cell_type": "code",
   "execution_count": 88,
   "id": "ffad94fb",
   "metadata": {},
   "outputs": [
    {
     "data": {
      "text/plain": [
       "(240.77974422186855, 252.04025577813144)"
      ]
     },
     "execution_count": 88,
     "metadata": {},
     "output_type": "execute_result"
    }
   ],
   "source": [
    "st.norm.interval(alpha = 0.50, loc=np.mean(sample), scale = st.sem(sample))"
   ]
  },
  {
   "cell_type": "code",
   "execution_count": 89,
   "id": "87a18122",
   "metadata": {},
   "outputs": [
    {
     "data": {
      "text/plain": [
       "241.611"
      ]
     },
     "execution_count": 89,
     "metadata": {},
     "output_type": "execute_result"
    }
   ],
   "source": [
    "pop_arr.mean()"
   ]
  },
  {
   "cell_type": "markdown",
   "id": "7bb6d097",
   "metadata": {},
   "source": [
    "#### Ok lets resample these samples"
   ]
  },
  {
   "cell_type": "code",
   "execution_count": 90,
   "id": "2b0cb721",
   "metadata": {},
   "outputs": [],
   "source": [
    "import numpy as np\n",
    "my_samples = []\n",
    "for _ in range(300):\n",
    "    p = np.random.choice(pop_arr, size=300, replace=True)\n",
    "    my_samples.append(p.mean())"
   ]
  },
  {
   "cell_type": "code",
   "execution_count": 91,
   "id": "58971960",
   "metadata": {},
   "outputs": [
    {
     "data": {
      "text/plain": [
       "300"
      ]
     },
     "execution_count": 91,
     "metadata": {},
     "output_type": "execute_result"
    }
   ],
   "source": [
    "len(my_samples)"
   ]
  },
  {
   "cell_type": "code",
   "execution_count": 92,
   "id": "88d93f1c",
   "metadata": {},
   "outputs": [
    {
     "data": {
      "text/plain": [
       "(array([ 4., 17., 32., 43., 47., 54., 54., 35., 10.,  4.]),\n",
       " array([220.41666667, 224.655     , 228.89333333, 233.13166667,\n",
       "        237.37      , 241.60833333, 245.84666667, 250.085     ,\n",
       "        254.32333333, 258.56166667, 262.8       ]),\n",
       " <BarContainer object of 10 artists>)"
      ]
     },
     "execution_count": 92,
     "metadata": {},
     "output_type": "execute_result"
    },
    {
     "data": {
      "image/png": "[encoded data removed]",
      "text/plain": [
       "<Figure size 432x288 with 1 Axes>"
      ]
     },
     "metadata": {
      "needs_background": "light"
     },
     "output_type": "display_data"
    }
   ],
   "source": [
    "plt.hist(my_samples)"
   ]
  },
  {
   "cell_type": "code",
   "execution_count": 93,
   "id": "dc217155",
   "metadata": {},
   "outputs": [],
   "source": [
    "smp = np.array(my_samples)\n",
    "mu = smp.mean()"
   ]
  },
  {
   "cell_type": "code",
   "execution_count": 94,
   "id": "85d6cdea",
   "metadata": {},
   "outputs": [],
   "source": [
    "st = np.std(smp)"
   ]
  },
  {
   "cell_type": "code",
   "execution_count": 95,
   "id": "dda92f3a",
   "metadata": {},
   "outputs": [],
   "source": [
    "md = np.median(smp)"
   ]
  },
  {
   "cell_type": "code",
   "execution_count": 96,
   "id": "108a7257",
   "metadata": {},
   "outputs": [
    {
     "name": "stdout",
     "output_type": "stream",
     "text": [
      "68% of data lies in bewtween one standard deviation 233.41748024738578 and 249.72780864150312 \n"
     ]
    }
   ],
   "source": [
    "one_std = mu+st\n",
    "one_std1 = mu-st\n",
    "print(\"68% of data lies in bewtween one standard deviation {} and {} \".format(one_std1,one_std))"
   ]
  },
  {
   "cell_type": "code",
   "execution_count": 97,
   "id": "dfb2d054",
   "metadata": {},
   "outputs": [
    {
     "name": "stdout",
     "output_type": "stream",
     "text": [
      "95% of data lies in bewtween two standard deviation 225.26231605032712 and 257.8829728385618 \n"
     ]
    }
   ],
   "source": [
    "two_std = mu+(2*st)\n",
    "two_std1 = mu-(2*st)\n",
    "print(\"95% of data lies in bewtween two standard deviation {} and {} \".format(two_std1, two_std))"
   ]
  },
  {
   "cell_type": "code",
   "execution_count": 98,
   "id": "cf76daff",
   "metadata": {},
   "outputs": [
    {
     "name": "stdout",
     "output_type": "stream",
     "text": [
      "99.7% of data lies in bewtween 3 standard deviation 217.10715185326842 and 266.0381370356205\n"
     ]
    }
   ],
   "source": [
    "three_std = mu+(3*st)\n",
    "three_std1 = mu-(3*st)\n",
    "print(\"99.7% of data lies in bewtween 3 standard deviation {} and {}\".format(three_std1, three_std))"
   ]
  },
  {
   "cell_type": "markdown",
   "id": "6c00d74e",
   "metadata": {},
   "source": [
    "The\n",
    "transformed value using normalization or standardization is termed a z-score"
   ]
  },
  {
   "cell_type": "markdown",
   "id": "f5c7f56a",
   "metadata": {},
   "source": [
    "A QQ-Plot is used to visually determine how close a sample is to a specified distribu‐\n",
    "tion"
   ]
  },
  {
   "cell_type": "code",
   "execution_count": 100,
   "id": "3fbf0d31",
   "metadata": {},
   "outputs": [
    {
     "data": {
      "text/plain": [
       "((array([-2.46203784, -2.12570747, -1.93122778, -1.79044653, -1.67819304,\n",
       "         -1.58381122, -1.50174123, -1.42869743, -1.36256869, -1.30191411,\n",
       "         -1.24570419, -1.19317644, -1.14374949, -1.09696931, -1.05247413,\n",
       "         -1.00997067, -0.96921765, -0.93001393, -0.89218993, -0.85560121,\n",
       "         -0.82012357, -0.78564937, -0.75208458, -0.71934648, -0.68736185,\n",
       "         -0.65606548, -0.62539893, -0.59530962, -0.56574992, -0.53667655,\n",
       "         -0.50804994, -0.47983378, -0.45199463, -0.42450149, -0.39732558,\n",
       "         -0.37044003, -0.34381966, -0.31744076, -0.29128096, -0.26531902,\n",
       "         -0.23953472, -0.21390872, -0.18842244, -0.16305799, -0.13779803,\n",
       "         -0.1126257 , -0.08752455, -0.06247843, -0.03747145, -0.01248789,\n",
       "          0.01248789,  0.03747145,  0.06247843,  0.08752455,  0.1126257 ,\n",
       "          0.13779803,  0.16305799,  0.18842244,  0.21390872,  0.23953472,\n",
       "          0.26531902,  0.29128096,  0.31744076,  0.34381966,  0.37044003,\n",
       "          0.39732558,  0.42450149,  0.45199463,  0.47983378,  0.50804994,\n",
       "          0.53667655,  0.56574992,  0.59530962,  0.62539893,  0.65606548,\n",
       "          0.68736185,  0.71934648,  0.75208458,  0.78564937,  0.82012357,\n",
       "          0.85560121,  0.89218993,  0.93001393,  0.96921765,  1.00997067,\n",
       "          1.05247413,  1.09696931,  1.14374949,  1.19317644,  1.24570419,\n",
       "          1.30191411,  1.36256869,  1.42869743,  1.50174123,  1.58381122,\n",
       "          1.67819304,  1.79044653,  1.93122778,  2.12570747,  2.46203784]),\n",
       "  array([-2.96781014, -2.69599042, -2.18772815, -1.97050637, -1.79470008,\n",
       "         -1.74987912, -1.71497514, -1.63825319, -1.60721261, -1.51750945,\n",
       "         -1.42748263, -1.41685606, -1.36301983, -1.31076531, -1.11262201,\n",
       "         -1.0555855 , -0.98925987, -0.97890589, -0.93419745, -0.90828373,\n",
       "         -0.84613269, -0.82813209, -0.8184809 , -0.72337628, -0.70563372,\n",
       "         -0.66558616, -0.54545624, -0.43768878, -0.41693916, -0.41091428,\n",
       "         -0.38721342, -0.37065716, -0.25796754, -0.24985493, -0.23317364,\n",
       "         -0.22845306, -0.20453405, -0.18746854, -0.18201952, -0.16081587,\n",
       "         -0.11600966, -0.1087972 , -0.06243138, -0.01915381, -0.00771327,\n",
       "          0.02487698,  0.03726712,  0.04744258,  0.05566411,  0.08610245,\n",
       "          0.10764205,  0.11320937,  0.11677241,  0.13872937,  0.16462804,\n",
       "          0.26961732,  0.27278561,  0.33212794,  0.35219099,  0.38367873,\n",
       "          0.40119104,  0.40479724,  0.43115524,  0.47414124,  0.48376413,\n",
       "          0.51768791,  0.53638306,  0.54738403,  0.55029717,  0.61853292,\n",
       "          0.66312014,  0.66959669,  0.68368371,  0.70510947,  0.72307976,\n",
       "          0.76504707,  0.76905594,  0.81254608,  0.96568002,  0.97786324,\n",
       "          1.13496095,  1.14871146,  1.1789711 ,  1.27992385,  1.30714949,\n",
       "          1.31806677,  1.33859091,  1.39297454,  1.47350539,  1.51743909,\n",
       "          1.54632506,  1.61052164,  1.64132152,  1.68169395,  1.72082266,\n",
       "          1.8622628 ,  1.9451263 ,  2.00265908,  2.12609806,  2.29626453])),\n",
       " (1.1160745735244937, 0.06210094075031513, 0.9948319585653689))"
      ]
     },
     "execution_count": 100,
     "metadata": {},
     "output_type": "execute_result"
    },
    {
     "data": {
      "image/png": "[encoded data removed]",
      "text/plain": [
       "<Figure size 288x288 with 1 Axes>"
      ]
     },
     "metadata": {
      "needs_background": "light"
     },
     "output_type": "display_data"
    }
   ],
   "source": [
    "from scipy import stats\n",
    "fig, ax = plt.subplots(figsize = (4,4))\n",
    "norm_sample = stats.norm.rvs(size =100)\n",
    "stats.probplot(norm_sample, plot = ax)"
   ]
  },
  {
   "cell_type": "markdown",
   "id": "0ef90e22",
   "metadata": {},
   "source": [
    "The QQ-Plot orders the z-scores from low\n",
    "to high and plots each value’s z-score on the y-axis; the x-axis is the corresponding\n",
    "quantile of a normal distribution for that value’s rank."
   ]
  },
  {
   "cell_type": "code",
   "execution_count": 112,
   "id": "0eef99cc",
   "metadata": {},
   "outputs": [],
   "source": [
    "import pandas as pd\n",
    "x = pd.read_csv('crime.csv')"
   ]
  },
  {
   "cell_type": "code",
   "execution_count": 116,
   "id": "62f12872",
   "metadata": {},
   "outputs": [
    {
     "data": {
      "text/plain": [
       "(array([ 7.,  6., 10.,  9.,  6.,  4.,  3.,  1.,  2.,  2.]),\n",
       " array([ 7.3 , 11.17, 15.04, 18.91, 22.78, 26.65, 30.52, 34.39, 38.26,\n",
       "        42.13, 46.  ]),\n",
       " <BarContainer object of 10 artists>)"
      ]
     },
     "execution_count": 116,
     "metadata": {},
     "output_type": "execute_result"
    },
    {
     "data": {
      "image/png": "[encoded data removed]",
      "text/plain": [
       "<Figure size 432x288 with 1 Axes>"
      ]
     },
     "metadata": {
      "needs_background": "light"
     },
     "output_type": "display_data"
    }
   ],
   "source": [
    "plt.hist(x['Rape'])"
   ]
  },
  {
   "cell_type": "code",
   "execution_count": 118,
   "id": "0ea9c452",
   "metadata": {},
   "outputs": [],
   "source": [
    "rape = x.Rape"
   ]
  },
  {
   "cell_type": "code",
   "execution_count": 120,
   "id": "6e74ef6b",
   "metadata": {},
   "outputs": [
    {
     "data": {
      "text/plain": [
       "((array([-2.20385432, -1.83293478, -1.61402323, -1.45296849, -1.32267759,\n",
       "         -1.21163342, -1.113805  , -1.02561527, -0.94475674, -0.86964726,\n",
       "         -0.79915021, -0.73241807, -0.66879925, -0.6077796 , -0.54894415,\n",
       "         -0.49195112, -0.43651377, -0.38238727, -0.32935914, -0.27724191,\n",
       "         -0.2258675 , -0.17508277, -0.12474591, -0.07472335, -0.02488719,\n",
       "          0.02488719,  0.07472335,  0.12474591,  0.17508277,  0.2258675 ,\n",
       "          0.27724191,  0.32935914,  0.38238727,  0.43651377,  0.49195112,\n",
       "          0.54894415,  0.6077796 ,  0.66879925,  0.73241807,  0.79915021,\n",
       "          0.86964726,  0.94475674,  1.02561527,  1.113805  ,  1.21163342,\n",
       "          1.32267759,  1.45296849,  1.61402323,  1.83293478,  2.20385432]),\n",
       "  array([ 7.3,  7.8,  8.3,  9.3,  9.5, 10.8, 11.1, 11.2, 11.3, 12.8, 14.2,\n",
       "         14.9, 14.9, 15.6, 15.8, 16.1, 16.3, 16.3, 16.4, 16.5, 17.1, 18. ,\n",
       "         18.8, 19.5, 20. , 20.2, 20.7, 21. , 21.2, 21.4, 22.2, 22.5, 22.9,\n",
       "         24. , 25.5, 25.8, 26.1, 26.2, 26.9, 27.8, 28.2, 29.3, 31. , 31.9,\n",
       "         32.1, 35.1, 38.7, 40.6, 44.5, 46. ])),\n",
       " (9.376149568647673, 21.232000000000003, 0.9752197799685398))"
      ]
     },
     "execution_count": 120,
     "metadata": {},
     "output_type": "execute_result"
    },
    {
     "data": {
      "image/png": "[encoded data removed]",
      "text/plain": [
       "<Figure size 288x288 with 1 Axes>"
      ]
     },
     "metadata": {
      "needs_background": "light"
     },
     "output_type": "display_data"
    }
   ],
   "source": [
    "fig, ax = plt.subplots(figsize=(4, 4))\n",
    "stats.probplot(rape, plot=ax)"
   ]
  },
  {
   "cell_type": "code",
   "execution_count": null,
   "id": "dd2c933d",
   "metadata": {},
   "outputs": [],
   "source": []
  },
  {
   "cell_type": "code",
   "execution_count": null,
   "id": "990467cc",
   "metadata": {},
   "outputs": [],
   "source": []
  }
 ],
 "metadata": {
  "kernelspec": {
   "display_name": "Python 3 (ipykernel)",
   "language": "python",
   "name": "python3"
  },
  "language_info": {
   "codemirror_mode": {
    "name": "ipython",
    "version": 3
   },
   "file_extension": ".py",
   "mimetype": "text/x-python",
   "name": "python",
   "nbconvert_exporter": "python",
   "pygments_lexer": "ipython3",
   "version": "3.8.10"
  }
 },
 "nbformat": 4,
 "nbformat_minor": 5
}
