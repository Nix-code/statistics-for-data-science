{
 "cells": [
  {
   "cell_type": "markdown",
   "id": "5f3f9c55",
   "metadata": {},
   "source": [
    "Standard normal distribution is the outcome of z-score"
   ]
  },
  {
   "cell_type": "markdown",
   "id": "f5da8aa6",
   "metadata": {},
   "source": [
    "In statistics, a z-score tells us how many standard deviations away a value is from the mean. "
   ]
  },
  {
   "cell_type": "markdown",
   "id": "2cd5638f",
   "metadata": {},
   "source": [
    "it (a) allows us to calculate the probability of a score occurring within our normal distribution and (b) enables us to compare two scores that are from different normal distributions."
   ]
  },
  {
   "cell_type": "code",
   "execution_count": 9,
   "id": "5de46b60",
   "metadata": {},
   "outputs": [],
   "source": [
    "import numpy as np\n",
    "x = np.random.randn(100)\n",
    "lis  = list(x)\n"
   ]
  },
  {
   "cell_type": "code",
   "execution_count": 6,
   "id": "be463a2c",
   "metadata": {},
   "outputs": [
    {
     "data": {
      "text/plain": [
       "(array([ 6.,  5., 11., 13., 11., 16., 15.,  9.,  8.,  6.]),\n",
       " array([-2.14844903, -1.74666562, -1.34488222, -0.94309881, -0.54131541,\n",
       "        -0.139532  ,  0.2622514 ,  0.66403481,  1.06581821,  1.46760162,\n",
       "         1.86938502]),\n",
       " <BarContainer object of 10 artists>)"
      ]
     },
     "execution_count": 6,
     "metadata": {},
     "output_type": "execute_result"
    },
    {
     "data": {
      "image/png": "[encoded data removed]",
      "text/plain": [
       "<Figure size 432x288 with 1 Axes>"
      ]
     },
     "metadata": {
      "needs_background": "light"
     },
     "output_type": "display_data"
    }
   ],
   "source": [
    "import matplotlib.pyplot as plt\n",
    "plt.hist(x)"
   ]
  },
  {
   "cell_type": "code",
   "execution_count": 10,
   "id": "e63e650b",
   "metadata": {},
   "outputs": [],
   "source": [
    "mu = x.mean()\n",
    "std = x.std()\n",
    "z_score = []"
   ]
  },
  {
   "cell_type": "code",
   "execution_count": 11,
   "id": "a370ff3c",
   "metadata": {},
   "outputs": [],
   "source": [
    "for i in lis:\n",
    "    z_ = (i-mu)/std\n",
    "    z_score.append(z_)\n"
   ]
  },
  {
   "cell_type": "code",
   "execution_count": 12,
   "id": "8a7dd575",
   "metadata": {},
   "outputs": [
    {
     "data": {
      "text/plain": [
       "1.3322676295501878e-17"
      ]
     },
     "execution_count": 12,
     "metadata": {},
     "output_type": "execute_result"
    }
   ],
   "source": [
    "zscore = np.array(z_score)\n",
    "np.mean(z_score)\n"
   ]
  },
  {
   "cell_type": "code",
   "execution_count": 13,
   "id": "e8e45352",
   "metadata": {},
   "outputs": [
    {
     "data": {
      "text/plain": [
       "1.0"
      ]
     },
     "execution_count": 13,
     "metadata": {},
     "output_type": "execute_result"
    }
   ],
   "source": [
    "np.std(z_score)"
   ]
  },
  {
   "cell_type": "code",
   "execution_count": 17,
   "id": "6cf885d1",
   "metadata": {},
   "outputs": [
    {
     "data": {
      "text/plain": [
       "(array([ 2.,  4.,  5., 17., 20., 27., 10.,  8.,  4.,  3.]),\n",
       " array([-2.70834516, -2.17112712, -1.63390909, -1.09669106, -0.55947303,\n",
       "        -0.022255  ,  0.51496304,  1.05218107,  1.5893991 ,  2.12661713,\n",
       "         2.66383516]),\n",
       " <BarContainer object of 10 artists>)"
      ]
     },
     "execution_count": 17,
     "metadata": {},
     "output_type": "execute_result"
    },
    {
     "data": {
      "image/png": "[encoded data removed]",
      "text/plain": [
       "<Figure size 432x288 with 1 Axes>"
      ]
     },
     "metadata": {
      "needs_background": "light"
     },
     "output_type": "display_data"
    }
   ],
   "source": [
    "plt.hist(zscore)"
   ]
  },
  {
   "cell_type": "markdown",
   "id": "fe2ad05e",
   "metadata": {},
   "source": [
    "### Stats module"
   ]
  },
  {
   "cell_type": "code",
   "execution_count": 21,
   "id": "4051d82e",
   "metadata": {},
   "outputs": [
    {
     "data": {
      "text/plain": [
       "array([-1.39443338, -1.19522861, -1.19522861, -0.19920477,  0.        ,\n",
       "        0.        ,  0.39840954,  0.5976143 ,  1.19522861,  1.79284291])"
      ]
     },
     "execution_count": 21,
     "metadata": {},
     "output_type": "execute_result"
    }
   ],
   "source": [
    "import scipy.stats as stats\n",
    "data = np.array([6, 7, 7, 12, 13, 13, 15, 16, 19, 22])\n",
    "stats.zscore(data)"
   ]
  },
  {
   "cell_type": "markdown",
   "id": "9d867cf4",
   "metadata": {},
   "source": [
    "The first value of “6” in the array is 1.394 standard deviations below the mean.\n",
    "The fifth value of “13” in the array is 0 standard deviations away from the mean, i.e. it is equal to the mean."
   ]
  },
  {
   "cell_type": "code",
   "execution_count": 22,
   "id": "a90e9c31",
   "metadata": {},
   "outputs": [
    {
     "data": {
      "text/plain": [
       "(array([3., 0., 0., 1., 2., 1., 1., 0., 1., 1.]),\n",
       " array([ 6. ,  7.6,  9.2, 10.8, 12.4, 14. , 15.6, 17.2, 18.8, 20.4, 22. ]),\n",
       " <BarContainer object of 10 artists>)"
      ]
     },
     "execution_count": 22,
     "metadata": {},
     "output_type": "execute_result"
    },
    {
     "data": {
      "image/png": "[encoded data removed]",
      "text/plain": [
       "<Figure size 432x288 with 1 Axes>"
      ]
     },
     "metadata": {
      "needs_background": "light"
     },
     "output_type": "display_data"
    }
   ],
   "source": [
    "plt.hist(data)"
   ]
  },
  {
   "cell_type": "code",
   "execution_count": 24,
   "id": "d5780a1c",
   "metadata": {},
   "outputs": [
    {
     "data": {
      "text/plain": [
       "(array([3., 0., 0., 1., 2., 1., 1., 0., 1., 1.]),\n",
       " array([-1.39443338, -1.07570575, -0.75697812, -0.43825049, -0.11952286,\n",
       "         0.19920477,  0.5179324 ,  0.83666003,  1.15538766,  1.47411528,\n",
       "         1.79284291]),\n",
       " <BarContainer object of 10 artists>)"
      ]
     },
     "execution_count": 24,
     "metadata": {},
     "output_type": "execute_result"
    },
    {
     "data": {
      "image/png": "[encoded data removed]",
      "text/plain": [
       "<Figure size 432x288 with 1 Axes>"
      ]
     },
     "metadata": {
      "needs_background": "light"
     },
     "output_type": "display_data"
    }
   ],
   "source": [
    "plt.hist(stats.zscore(data))"
   ]
  },
  {
   "cell_type": "code",
   "execution_count": 26,
   "id": "225ab4de",
   "metadata": {},
   "outputs": [
    {
     "data": {
      "text/plain": [
       "13.0"
      ]
     },
     "execution_count": 26,
     "metadata": {},
     "output_type": "execute_result"
    }
   ],
   "source": [
    "data.mean()"
   ]
  },
  {
   "cell_type": "code",
   "execution_count": 32,
   "id": "75759774",
   "metadata": {},
   "outputs": [
    {
     "data": {
      "text/plain": [
       "0.0"
      ]
     },
     "execution_count": 32,
     "metadata": {},
     "output_type": "execute_result"
    }
   ],
   "source": [
    "x = stats.zscore(data)\n",
    "np.mean(x)\n"
   ]
  },
  {
   "cell_type": "code",
   "execution_count": 33,
   "id": "b457aee3",
   "metadata": {},
   "outputs": [
    {
     "data": {
      "text/plain": [
       "1.0"
      ]
     },
     "execution_count": 33,
     "metadata": {},
     "output_type": "execute_result"
    }
   ],
   "source": [
    "np.std(x)"
   ]
  },
  {
   "cell_type": "markdown",
   "id": "c4b72e78",
   "metadata": {},
   "source": [
    "in case of t-test, we use it when there is unknown population std\n",
    "\n",
    "to find the interval, check t-table using degree of freedom"
   ]
  }
 ],
 "metadata": {
  "kernelspec": {
   "display_name": "Python 3 (ipykernel)",
   "language": "python",
   "name": "python3"
  },
  "language_info": {
   "codemirror_mode": {
    "name": "ipython",
    "version": 3
   },
   "file_extension": ".py",
   "mimetype": "text/x-python",
   "name": "python",
   "nbconvert_exporter": "python",
   "pygments_lexer": "ipython3",
   "version": "3.8.10"
  }
 },
 "nbformat": 4,
 "nbformat_minor": 5
}
