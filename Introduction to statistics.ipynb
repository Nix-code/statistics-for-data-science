{
 "cells": [
  {
   "cell_type": "code",
   "execution_count": 63,
   "id": "c2af3f45",
   "metadata": {},
   "outputs": [],
   "source": [
    "import numpy as np\n",
    "import pandas as pd\n",
    "import matplotlib.pyplot as plt\n",
    "import seaborn as sns\n",
    "import warnings\n",
    "warnings.simplefilter(action='ignore', category=FutureWarning)\n"
   ]
  },
  {
   "cell_type": "code",
   "execution_count": 64,
   "id": "ad044500",
   "metadata": {},
   "outputs": [
    {
     "data": {
      "text/html": [
       "<div>\n",
       "<style scoped>\n",
       "    .dataframe tbody tr th:only-of-type {\n",
       "        vertical-align: middle;\n",
       "    }\n",
       "\n",
       "    .dataframe tbody tr th {\n",
       "        vertical-align: top;\n",
       "    }\n",
       "\n",
       "    .dataframe thead th {\n",
       "        text-align: right;\n",
       "    }\n",
       "</style>\n",
       "<table border=\"1\" class=\"dataframe\">\n",
       "  <thead>\n",
       "    <tr style=\"text-align: right;\">\n",
       "      <th></th>\n",
       "      <th>Gender</th>\n",
       "      <th>Height</th>\n",
       "      <th>Weight</th>\n",
       "      <th>Index</th>\n",
       "    </tr>\n",
       "  </thead>\n",
       "  <tbody>\n",
       "    <tr>\n",
       "      <th>0</th>\n",
       "      <td>Male</td>\n",
       "      <td>174</td>\n",
       "      <td>96</td>\n",
       "      <td>4</td>\n",
       "    </tr>\n",
       "    <tr>\n",
       "      <th>1</th>\n",
       "      <td>Male</td>\n",
       "      <td>189</td>\n",
       "      <td>87</td>\n",
       "      <td>2</td>\n",
       "    </tr>\n",
       "    <tr>\n",
       "      <th>2</th>\n",
       "      <td>Female</td>\n",
       "      <td>185</td>\n",
       "      <td>110</td>\n",
       "      <td>4</td>\n",
       "    </tr>\n",
       "    <tr>\n",
       "      <th>3</th>\n",
       "      <td>Female</td>\n",
       "      <td>195</td>\n",
       "      <td>104</td>\n",
       "      <td>3</td>\n",
       "    </tr>\n",
       "    <tr>\n",
       "      <th>4</th>\n",
       "      <td>Male</td>\n",
       "      <td>149</td>\n",
       "      <td>61</td>\n",
       "      <td>3</td>\n",
       "    </tr>\n",
       "  </tbody>\n",
       "</table>\n",
       "</div>"
      ],
      "text/plain": [
       "   Gender  Height  Weight  Index\n",
       "0    Male     174      96      4\n",
       "1    Male     189      87      2\n",
       "2  Female     185     110      4\n",
       "3  Female     195     104      3\n",
       "4    Male     149      61      3"
      ]
     },
     "execution_count": 64,
     "metadata": {},
     "output_type": "execute_result"
    }
   ],
   "source": [
    "df = pd.read_csv('height.csv')\n",
    "df.head()"
   ]
  },
  {
   "cell_type": "code",
   "execution_count": 65,
   "id": "3cbb465f",
   "metadata": {},
   "outputs": [
    {
     "data": {
      "text/plain": [
       "(500, 4)"
      ]
     },
     "execution_count": 65,
     "metadata": {},
     "output_type": "execute_result"
    }
   ],
   "source": [
    "df.shape"
   ]
  },
  {
   "cell_type": "markdown",
   "id": "010ef98d",
   "metadata": {},
   "source": [
    "### Measure of central tendency"
   ]
  },
  {
   "cell_type": "markdown",
   "id": "039d0fa1",
   "metadata": {},
   "source": [
    "- Mean - It is negatively affected by outliers"
   ]
  },
  {
   "cell_type": "code",
   "execution_count": 66,
   "id": "e11bc67e",
   "metadata": {},
   "outputs": [
    {
     "data": {
      "text/plain": [
       "169.944"
      ]
     },
     "execution_count": 66,
     "metadata": {},
     "output_type": "execute_result"
    }
   ],
   "source": [
    "df.Height.mean()"
   ]
  },
  {
   "cell_type": "code",
   "execution_count": 67,
   "id": "795a4206",
   "metadata": {},
   "outputs": [
    {
     "data": {
      "text/plain": [
       "106.0"
      ]
     },
     "execution_count": 67,
     "metadata": {},
     "output_type": "execute_result"
    }
   ],
   "source": [
    "df.Weight.mean()"
   ]
  },
  {
   "cell_type": "code",
   "execution_count": 68,
   "id": "52732fc9",
   "metadata": {},
   "outputs": [
    {
     "data": {
      "text/plain": [
       "170.5"
      ]
     },
     "execution_count": 68,
     "metadata": {},
     "output_type": "execute_result"
    }
   ],
   "source": [
    "df.Height.median()"
   ]
  },
  {
   "cell_type": "code",
   "execution_count": 69,
   "id": "a1c1d6d0",
   "metadata": {},
   "outputs": [
    {
     "data": {
      "text/plain": [
       "106.0"
      ]
     },
     "execution_count": 69,
     "metadata": {},
     "output_type": "execute_result"
    }
   ],
   "source": [
    "df.Weight.median()"
   ]
  },
  {
   "cell_type": "code",
   "execution_count": 70,
   "id": "c7fdac06",
   "metadata": {},
   "outputs": [
    {
     "data": {
      "text/plain": [
       "0    188\n",
       "dtype: int64"
      ]
     },
     "execution_count": 70,
     "metadata": {},
     "output_type": "execute_result"
    }
   ],
   "source": [
    "df.Height.mode()"
   ]
  },
  {
   "cell_type": "code",
   "execution_count": 71,
   "id": "a13c8982",
   "metadata": {},
   "outputs": [
    {
     "data": {
      "text/plain": [
       "0     50\n",
       "1     80\n",
       "2    104\n",
       "dtype: int64"
      ]
     },
     "execution_count": 71,
     "metadata": {},
     "output_type": "execute_result"
    }
   ],
   "source": [
    "df.Weight.mode()"
   ]
  },
  {
   "cell_type": "markdown",
   "id": "27cbec21",
   "metadata": {},
   "source": [
    "### Visualize "
   ]
  },
  {
   "cell_type": "code",
   "execution_count": 72,
   "id": "74065c50",
   "metadata": {},
   "outputs": [
    {
     "data": {
      "text/plain": [
       "<matplotlib.lines.Line2D at 0x7f0b2df20760>"
      ]
     },
     "execution_count": 72,
     "metadata": {},
     "output_type": "execute_result"
    },
    {
     "data": {
      "image/png": "[encoded data removed]",
      "text/plain": [
       "<Figure size 432x288 with 2 Axes>"
      ]
     },
     "metadata": {
      "needs_background": "light"
     },
     "output_type": "display_data"
    }
   ],
   "source": [
    "f, (ax_box, ax_hist) = plt.subplots(2, sharex=True, gridspec_kw = {'height_ratios': (0.2, 1)})\n",
    "mean = df['Height'].mean()\n",
    "median = df['Height'].median()\n",
    "mode = df['Height'].mode().to_numpy()[0]\n",
    "\n",
    "sns.boxplot(df['Height'], ax = ax_box)\n",
    "ax_box.axvline(mean, color = 'r', linestyle = '--')\n",
    "ax_box.axvline(median, color = 'g',linestyle = '-')\n",
    "ax_box.axvline(mode, color = 'b',linestyle = '-')\n",
    "\n",
    "sns.distplot(df[\"Height\"], ax=ax_hist)\n",
    "ax_hist.axvline(mean, color='r',linestyle = '--')\n",
    "ax_hist.axvline(median, color='g', linestyle='-')\n",
    "ax_hist.axvline(mode, color='b', linestyle='-')"
   ]
  },
  {
   "cell_type": "code",
   "execution_count": 73,
   "id": "515f9bc7",
   "metadata": {},
   "outputs": [
    {
     "data": {
      "text/plain": [
       "<matplotlib.lines.Line2D at 0x7f0b2b83fee0>"
      ]
     },
     "execution_count": 73,
     "metadata": {},
     "output_type": "execute_result"
    },
    {
     "data": {
      "image/png": "[encoded data removed]",
      "text/plain": [
       "<Figure size 432x288 with 2 Axes>"
      ]
     },
     "metadata": {
      "needs_background": "light"
     },
     "output_type": "display_data"
    }
   ],
   "source": [
    "f, (ax_box, ax_hist) = plt.subplots(2, sharex=True, gridspec_kw = {'height_ratios': (0.2, 1)})\n",
    "mean = df['Weight'].mean()\n",
    "median = df['Weight'].median()\n",
    "mode = df['Weight'].mode().to_numpy()[0]\n",
    "\n",
    "sns.boxplot(df['Weight'], ax = ax_box)\n",
    "ax_box.axvline(mean, color = 'r', linestyle = '--')\n",
    "ax_box.axvline(median, color = 'g',linestyle = '-')\n",
    "ax_box.axvline(mode, color = 'b',linestyle = '-')\n",
    "\n",
    "sns.distplot(df[\"Weight\"], ax=ax_hist)\n",
    "ax_hist.axvline(mean, color='r',linestyle = '--')\n",
    "ax_hist.axvline(median, color='g', linestyle='-')\n",
    "ax_hist.axvline(mode, color='b', linestyle='-')"
   ]
  },
  {
   "cell_type": "markdown",
   "id": "b92a000b",
   "metadata": {},
   "source": [
    "### Measures of Variability"
   ]
  },
  {
   "cell_type": "markdown",
   "id": "43d17674",
   "metadata": {},
   "source": [
    "The problem with Variance is that because of the squaring, it is not in the same unit of measurement as the original data. This is why the Standard Deviation is used more often because it is in the original unit (the standard deviation is equal to the squared root of the variance)."
   ]
  },
  {
   "cell_type": "code",
   "execution_count": 74,
   "id": "ec535edf",
   "metadata": {},
   "outputs": [
    {
     "data": {
      "text/plain": [
       "268.1491623246493"
      ]
     },
     "execution_count": 74,
     "metadata": {},
     "output_type": "execute_result"
    }
   ],
   "source": [
    "df.Height.var()\n"
   ]
  },
  {
   "cell_type": "code",
   "execution_count": 75,
   "id": "2b15291e",
   "metadata": {},
   "outputs": [
    {
     "data": {
      "text/plain": [
       "16.375260679593755"
      ]
     },
     "execution_count": 75,
     "metadata": {},
     "output_type": "execute_result"
    }
   ],
   "source": [
    "df.Height.std()"
   ]
  },
  {
   "cell_type": "markdown",
   "id": "3feca95c",
   "metadata": {},
   "source": [
    "### IQR"
   ]
  },
  {
   "cell_type": "code",
   "execution_count": 76,
   "id": "9dc2d04a",
   "metadata": {},
   "outputs": [
    {
     "data": {
      "text/plain": [
       "0.25    156.0\n",
       "0.50    170.5\n",
       "0.75    184.0\n",
       "Name: Height, dtype: float64"
      ]
     },
     "execution_count": 76,
     "metadata": {},
     "output_type": "execute_result"
    }
   ],
   "source": [
    "quartiles = [0.25, 0.5, 0.75]\n",
    "df.Height.quantile(q= quartiles)"
   ]
  },
  {
   "cell_type": "code",
   "execution_count": 77,
   "id": "4e54dfb9",
   "metadata": {},
   "outputs": [
    {
     "data": {
      "text/plain": [
       "0.25     80.0\n",
       "0.50    106.0\n",
       "0.75    136.0\n",
       "Name: Weight, dtype: float64"
      ]
     },
     "execution_count": 77,
     "metadata": {},
     "output_type": "execute_result"
    }
   ],
   "source": [
    "df.Weight.quantile(q  = quartiles)"
   ]
  },
  {
   "cell_type": "code",
   "execution_count": 78,
   "id": "9364c9ae",
   "metadata": {},
   "outputs": [
    {
     "data": {
      "text/html": [
       "<div>\n",
       "<style scoped>\n",
       "    .dataframe tbody tr th:only-of-type {\n",
       "        vertical-align: middle;\n",
       "    }\n",
       "\n",
       "    .dataframe tbody tr th {\n",
       "        vertical-align: top;\n",
       "    }\n",
       "\n",
       "    .dataframe thead th {\n",
       "        text-align: right;\n",
       "    }\n",
       "</style>\n",
       "<table border=\"1\" class=\"dataframe\">\n",
       "  <thead>\n",
       "    <tr style=\"text-align: right;\">\n",
       "      <th></th>\n",
       "      <th>Height</th>\n",
       "      <th>Weight</th>\n",
       "      <th>Index</th>\n",
       "    </tr>\n",
       "  </thead>\n",
       "  <tbody>\n",
       "    <tr>\n",
       "      <th>count</th>\n",
       "      <td>500.000000</td>\n",
       "      <td>500.000000</td>\n",
       "      <td>500.000000</td>\n",
       "    </tr>\n",
       "    <tr>\n",
       "      <th>mean</th>\n",
       "      <td>169.944000</td>\n",
       "      <td>106.000000</td>\n",
       "      <td>3.748000</td>\n",
       "    </tr>\n",
       "    <tr>\n",
       "      <th>std</th>\n",
       "      <td>16.375261</td>\n",
       "      <td>32.382607</td>\n",
       "      <td>1.355053</td>\n",
       "    </tr>\n",
       "    <tr>\n",
       "      <th>min</th>\n",
       "      <td>140.000000</td>\n",
       "      <td>50.000000</td>\n",
       "      <td>0.000000</td>\n",
       "    </tr>\n",
       "    <tr>\n",
       "      <th>25%</th>\n",
       "      <td>156.000000</td>\n",
       "      <td>80.000000</td>\n",
       "      <td>3.000000</td>\n",
       "    </tr>\n",
       "    <tr>\n",
       "      <th>50%</th>\n",
       "      <td>170.500000</td>\n",
       "      <td>106.000000</td>\n",
       "      <td>4.000000</td>\n",
       "    </tr>\n",
       "    <tr>\n",
       "      <th>75%</th>\n",
       "      <td>184.000000</td>\n",
       "      <td>136.000000</td>\n",
       "      <td>5.000000</td>\n",
       "    </tr>\n",
       "    <tr>\n",
       "      <th>max</th>\n",
       "      <td>199.000000</td>\n",
       "      <td>160.000000</td>\n",
       "      <td>5.000000</td>\n",
       "    </tr>\n",
       "  </tbody>\n",
       "</table>\n",
       "</div>"
      ],
      "text/plain": [
       "           Height      Weight       Index\n",
       "count  500.000000  500.000000  500.000000\n",
       "mean   169.944000  106.000000    3.748000\n",
       "std     16.375261   32.382607    1.355053\n",
       "min    140.000000   50.000000    0.000000\n",
       "25%    156.000000   80.000000    3.000000\n",
       "50%    170.500000  106.000000    4.000000\n",
       "75%    184.000000  136.000000    5.000000\n",
       "max    199.000000  160.000000    5.000000"
      ]
     },
     "execution_count": 78,
     "metadata": {},
     "output_type": "execute_result"
    }
   ],
   "source": []
  },
  {
   "cell_type": "markdown",
   "id": "52719386",
   "metadata": {},
   "source": [
    "### Covariance and Correlation"
   ]
  },
  {
   "cell_type": "markdown",
   "id": "0bd09c94",
   "metadata": {},
   "source": [
    "Covarience is the measure that indicates how two variables are related\n",
    "covariance does not use one standard unit of measurement."
   ]
  },
  {
   "cell_type": "markdown",
   "id": "5054a61b",
   "metadata": {},
   "source": [
    "-ve covariance means the variables are inversely related\n",
    "Increase in one value will decrease another\n",
    "\n",
    "+ve covariance means if one value increase, another value will also increases\n",
    "\n",
    "- covariance shows us how the two variables vary from each other whereas correlation shows us the relationship between the two variables and how are they related.\n",
    "\n",
    "- Now, when it comes to making a choice, which is a better measure of the relationship between two variables, correlation is preferred over covariance, because it remains unaffected by the change in location and scale, and can also be used to make a comparison between two pairs of variables."
   ]
  },
  {
   "cell_type": "code",
   "execution_count": 79,
   "id": "edc1ce9d",
   "metadata": {},
   "outputs": [
    {
     "name": "stdout",
     "output_type": "stream",
     "text": [
      "0.23647294589178355\n"
     ]
    }
   ],
   "source": [
    "covariance = df['Height'].cov(df[\"Weight\"])\n",
    "print(covariance)"
   ]
  },
  {
   "cell_type": "code",
   "execution_count": 81,
   "id": "e7db0697",
   "metadata": {},
   "outputs": [
    {
     "name": "stdout",
     "output_type": "stream",
     "text": [
      "35.30460921843686\n"
     ]
    }
   ],
   "source": [
    "covariance = df[\"Index\"].cov(df[\"Weight\"])\n",
    "print(covariance)\n"
   ]
  },
  {
   "cell_type": "markdown",
   "id": "e86fb15f",
   "metadata": {},
   "source": [
    "Correlation = this unit of measure standardizes the measure of interdependence between two variables and, consequently, tells us how closely the two variables move. The correlation measurement, called a correlation coefficient, will always take on a value between 1 and -1."
   ]
  },
  {
   "cell_type": "code",
   "execution_count": null,
   "id": "b3bd38ac",
   "metadata": {},
   "outputs": [],
   "source": [
    "- -1"
   ]
  },
  {
   "cell_type": "code",
   "execution_count": null,
   "id": "82475cfa",
   "metadata": {},
   "outputs": [],
   "source": []
  }
 ],
 "metadata": {
  "kernelspec": {
   "display_name": "Python 3 (ipykernel)",
   "language": "python",
   "name": "python3"
  },
  "language_info": {
   "codemirror_mode": {
    "name": "ipython",
    "version": 3
   },
   "file_extension": ".py",
   "mimetype": "text/x-python",
   "name": "python",
   "nbconvert_exporter": "python",
   "pygments_lexer": "ipython3",
   "version": "3.8.10"
  }
 },
 "nbformat": 4,
 "nbformat_minor": 5
}
