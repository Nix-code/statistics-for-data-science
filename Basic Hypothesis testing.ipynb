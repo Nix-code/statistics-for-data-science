{
 "cells": [
  {
   "cell_type": "markdown",
   "id": "fbed44c6",
   "metadata": {},
   "source": [
    "Suppose the IQ in a certain population is normally distributed with a mean of μ = 100 and standard deviation of σ = 15.\n",
    "\n",
    "A researcher wants to know if a new drug affects IQ levels, so he recruits 20 patients to try it and records their IQ levels.\n",
    "\n",
    "The following code shows how to perform a one sample z-test in Python to determine if the new drug causes a significant difference in IQ levels:"
   ]
  },
  {
   "cell_type": "code",
   "execution_count": 2,
   "id": "d24c62d1",
   "metadata": {},
   "outputs": [
    {
     "data": {
      "text/plain": [
       "(1.5976240527147705, 0.1101266701438426)"
      ]
     },
     "execution_count": 2,
     "metadata": {},
     "output_type": "execute_result"
    }
   ],
   "source": [
    "from statsmodels.stats.weightstats import ztest as ztest\n",
    "\n",
    "# data of 20 people as a sample\n",
    "data = [88, 92, 94, 94, 96, 97, 97, 97, 99, 99,\n",
    "        105, 109, 109, 109, 110, 112, 112, 113, 114, 115]\n",
    "\n",
    "ztest(data, value = 100)"
   ]
  },
  {
   "cell_type": "markdown",
   "id": "450bb186",
   "metadata": {},
   "source": [
    "0.11 is p value and 1.59 is z score"
   ]
  },
  {
   "cell_type": "markdown",
   "id": "3ce8ba73",
   "metadata": {},
   "source": [
    "if p value is less than significance value then we reject our null hypothesis"
   ]
  },
  {
   "cell_type": "markdown",
   "id": "a15df2e0",
   "metadata": {},
   "source": [
    "### T test"
   ]
  },
  {
   "cell_type": "code",
   "execution_count": 3,
   "id": "ae336b01",
   "metadata": {},
   "outputs": [],
   "source": [
    "## t -test \n",
    "\n",
    "ages=[10,20,35,50,28,40,55,18,16,55,30,25,43,18,30,28,14,24,16,17,32,35,26,27,65,18,43,23,21,20,19,70]"
   ]
  },
  {
   "cell_type": "code",
   "execution_count": 4,
   "id": "862eb51f",
   "metadata": {},
   "outputs": [
    {
     "data": {
      "text/plain": [
       "30.34375"
      ]
     },
     "execution_count": 4,
     "metadata": {},
     "output_type": "execute_result"
    }
   ],
   "source": [
    "import numpy as np\n",
    "a_mean = np.mean(ages)\n",
    "a_mean"
   ]
  },
  {
   "cell_type": "code",
   "execution_count": 5,
   "id": "e9cc2d29",
   "metadata": {},
   "outputs": [
    {
     "name": "stdout",
     "output_type": "stream",
     "text": [
      "27.7\n"
     ]
    }
   ],
   "source": [
    "sample_size = 10\n",
    "\n",
    "age_sample = np.random.choice(ages, sample_size)\n",
    "\n",
    "sm_mean = np.mean(age_sample)\n",
    "print(sm_mean)"
   ]
  },
  {
   "cell_type": "code",
   "execution_count": 6,
   "id": "b251eec3",
   "metadata": {},
   "outputs": [
    {
     "data": {
      "text/plain": [
       "Ttest_1sampResult(statistic=-0.5384548463725818, pvalue=0.6033234282451954)"
      ]
     },
     "execution_count": 6,
     "metadata": {},
     "output_type": "execute_result"
    }
   ],
   "source": [
    "from scipy.stats import ttest_1samp\n",
    "ttest_1samp(age_sample, 30) #30 is mean sample little bit far"
   ]
  },
  {
   "cell_type": "markdown",
   "id": "8b401816",
   "metadata": {},
   "source": [
    "say alpha = 0.05\n",
    "so p value is greater than alpha value\n",
    "\n",
    "The p-value measures the probability of getting a more extreme value than the one you got from the experiment. If the p-value is greater than alpha, you accept the null hypothesis. If it is less than alpha, you reject the null hypothesis."
   ]
  },
  {
   "cell_type": "code",
   "execution_count": 7,
   "id": "f303dccd",
   "metadata": {},
   "outputs": [],
   "source": [
    "import scipy.stats as stats\n",
    "import math"
   ]
  },
  {
   "cell_type": "code",
   "execution_count": 8,
   "id": "4dec8a30",
   "metadata": {},
   "outputs": [],
   "source": [
    "np.random.seed(4)\n",
    "\n",
    "school_age = stats.poisson.rvs(loc=18, mu=35, size = 1500)\n",
    "classA_age = stats.poisson.rvs(loc=18, mu = 30, size = 60)\n"
   ]
  },
  {
   "cell_type": "code",
   "execution_count": 15,
   "id": "662641f0",
   "metadata": {},
   "outputs": [
    {
     "data": {
      "text/plain": [
       "(array([ 25.,  77., 245., 353., 392., 255., 112.,  32.,   3.,   6.]),\n",
       " array([36. , 40.1, 44.2, 48.3, 52.4, 56.5, 60.6, 64.7, 68.8, 72.9, 77. ]),\n",
       " <BarContainer object of 10 artists>)"
      ]
     },
     "execution_count": 15,
     "metadata": {},
     "output_type": "execute_result"
    },
    {
     "data": {
      "image/png": "[encoded data removed]",
      "text/plain": [
       "<Figure size 432x288 with 1 Axes>"
      ]
     },
     "metadata": {
      "needs_background": "light"
     },
     "output_type": "display_data"
    }
   ],
   "source": [
    "import matplotlib.pyplot as plt\n",
    "plt.hist(school_age)"
   ]
  },
  {
   "cell_type": "code",
   "execution_count": 17,
   "id": "3ce6554f",
   "metadata": {},
   "outputs": [
    {
     "data": {
      "text/plain": [
       "(array([ 2.,  4.,  4., 18.,  7., 11.,  7.,  6.,  0.,  1.]),\n",
       " array([36., 39., 42., 45., 48., 51., 54., 57., 60., 63., 66.]),\n",
       " <BarContainer object of 10 artists>)"
      ]
     },
     "execution_count": 17,
     "metadata": {},
     "output_type": "execute_result"
    },
    {
     "data": {
      "image/png": "[encoded data removed]",
      "text/plain": [
       "<Figure size 432x288 with 1 Axes>"
      ]
     },
     "metadata": {
      "needs_background": "light"
     },
     "output_type": "display_data"
    }
   ],
   "source": [
    "plt.hist(classA_age)"
   ]
  },
  {
   "cell_type": "code",
   "execution_count": 19,
   "id": "89a3c4a2",
   "metadata": {},
   "outputs": [
    {
     "data": {
      "text/plain": [
       "48.96666666666667"
      ]
     },
     "execution_count": 19,
     "metadata": {},
     "output_type": "execute_result"
    }
   ],
   "source": [
    "classA_age.mean()"
   ]
  },
  {
   "cell_type": "code",
   "execution_count": 21,
   "id": "c3ebd283",
   "metadata": {},
   "outputs": [
    {
     "data": {
      "text/plain": [
       "Ttest_1sampResult(statistic=-5.284563320159366, pvalue=1.9160936453833407e-06)"
      ]
     },
     "execution_count": 21,
     "metadata": {},
     "output_type": "execute_result"
    }
   ],
   "source": [
    "ttest_1samp(classA_age, popmean = school_age.mean())"
   ]
  },
  {
   "cell_type": "code",
   "execution_count": 24,
   "id": "4c49544c",
   "metadata": {},
   "outputs": [
    {
     "data": {
      "text/plain": [
       "53.019333333333336"
      ]
     },
     "execution_count": 24,
     "metadata": {},
     "output_type": "execute_result"
    }
   ],
   "source": [
    "school_age.mean()"
   ]
  },
  {
   "cell_type": "code",
   "execution_count": 25,
   "id": "2af0ab34",
   "metadata": {},
   "outputs": [],
   "source": [
    "p_value = 1.91"
   ]
  },
  {
   "cell_type": "code",
   "execution_count": 26,
   "id": "f034b625",
   "metadata": {},
   "outputs": [
    {
     "name": "stdout",
     "output_type": "stream",
     "text": [
      "Accept Ho\n"
     ]
    }
   ],
   "source": [
    "if p_value <=0.05:\n",
    "    print(\"Reject Null hypothesis\")\n",
    "else:\n",
    "    print(\"Accept Ho\")"
   ]
  },
  {
   "cell_type": "code",
   "execution_count": null,
   "id": "61b77b2c",
   "metadata": {},
   "outputs": [],
   "source": []
  }
 ],
 "metadata": {
  "kernelspec": {
   "display_name": "Python 3 (ipykernel)",
   "language": "python",
   "name": "python3"
  },
  "language_info": {
   "codemirror_mode": {
    "name": "ipython",
    "version": 3
   },
   "file_extension": ".py",
   "mimetype": "text/x-python",
   "name": "python",
   "nbconvert_exporter": "python",
   "pygments_lexer": "ipython3",
   "version": "3.8.10"
  }
 },
 "nbformat": 4,
 "nbformat_minor": 5
}
