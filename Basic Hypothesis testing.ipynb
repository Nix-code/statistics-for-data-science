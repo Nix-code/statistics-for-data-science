{
 "cells": [
  {
   "cell_type": "markdown",
   "id": "f31e1af5",
   "metadata": {},
   "source": [
    "Suppose the IQ in a certain population is normally distributed with a mean of μ = 100 and standard deviation of σ = 15.\n",
    "\n",
    "A researcher wants to know if a new drug affects IQ levels, so he recruits 20 patients to try it and records their IQ levels.\n",
    "\n",
    "The following code shows how to perform a one sample z-test in Python to determine if the new drug causes a significant difference in IQ levels:"
   ]
  },
  {
   "cell_type": "code",
   "execution_count": 1,
   "id": "8bd8d8da",
   "metadata": {},
   "outputs": [
    {
     "data": {
      "text/plain": [
       "(1.5976240527147705, 0.1101266701438426)"
      ]
     },
     "execution_count": 1,
     "metadata": {},
     "output_type": "execute_result"
    }
   ],
   "source": [
    "from statsmodels.stats.weightstats import ztest as ztest\n",
    "\n",
    "# data of 20 people as a sample\n",
    "data = [88, 92, 94, 94, 96, 97, 97, 97, 99, 99,\n",
    "        105, 109, 109, 109, 110, 112, 112, 113, 114, 115]\n",
    "\n",
    "ztest(data, value = 100)"
   ]
  },
  {
   "cell_type": "markdown",
   "id": "8e19e26e",
   "metadata": {},
   "source": [
    "0.11 is p value and 1.59 is z score"
   ]
  },
  {
   "cell_type": "markdown",
   "id": "cfa19c39",
   "metadata": {},
   "source": [
    "if p value is less than significance value then we reject our null hypothesis"
   ]
  },
  {
   "cell_type": "markdown",
   "id": "791f2d6a",
   "metadata": {},
   "source": [
    "### T test"
   ]
  },
  {
   "cell_type": "code",
   "execution_count": 2,
   "id": "b820e3c0",
   "metadata": {},
   "outputs": [],
   "source": [
    "## t -test \n",
    "\n",
    "ages=[10,20,35,50,28,40,55,18,16,55,30,25,43,18,30,28,14,24,16,17,32,35,26,27,65,18,43,23,21,20,19,70]"
   ]
  },
  {
   "cell_type": "code",
   "execution_count": 4,
   "id": "02d9a1c5",
   "metadata": {},
   "outputs": [
    {
     "data": {
      "text/plain": [
       "30.34375"
      ]
     },
     "execution_count": 4,
     "metadata": {},
     "output_type": "execute_result"
    }
   ],
   "source": [
    "import numpy as np\n",
    "a_mean = np.mean(ages)\n",
    "a_mean"
   ]
  },
  {
   "cell_type": "code",
   "execution_count": 9,
   "id": "2f9d4e33",
   "metadata": {},
   "outputs": [
    {
     "name": "stdout",
     "output_type": "stream",
     "text": [
      "27.9\n"
     ]
    }
   ],
   "source": [
    "sample_size = 10\n",
    "\n",
    "age_sample = np.random.choice(ages, sample_size)\n",
    "\n",
    "sm_mean = np.mean(age_sample)\n",
    "print(sm_mean)"
   ]
  },
  {
   "cell_type": "code",
   "execution_count": 13,
   "id": "cd0cc3eb",
   "metadata": {},
   "outputs": [
    {
     "data": {
      "text/plain": [
       "Ttest_1sampResult(statistic=-0.6316126710952447, pvalue=0.5433474024745306)"
      ]
     },
     "execution_count": 13,
     "metadata": {},
     "output_type": "execute_result"
    }
   ],
   "source": [
    "from scipy.stats import ttest_1samp\n",
    "ttest_1samp(age_sample, 30) #30 is mean sample little bit far"
   ]
  },
  {
   "cell_type": "markdown",
   "id": "978d653c",
   "metadata": {},
   "source": [
    "say alpha = 0.05\n",
    "so p value is greater than alpha value\n",
    "\n",
    "The p-value measures the probability of getting a more extreme value than the one you got from the experiment. If the p-value is greater than alpha, you accept the null hypothesis. If it is less than alpha, you reject the null hypothesis."
   ]
  },
  {
   "cell_type": "code",
   "execution_count": null,
   "id": "3603b801",
   "metadata": {},
   "outputs": [],
   "source": []
  }
 ],
 "metadata": {
  "kernelspec": {
   "display_name": "Python 3 (ipykernel)",
   "language": "python",
   "name": "python3"
  },
  "language_info": {
   "codemirror_mode": {
    "name": "ipython",
    "version": 3
   },
   "file_extension": ".py",
   "mimetype": "text/x-python",
   "name": "python",
   "nbconvert_exporter": "python",
   "pygments_lexer": "ipython3",
   "version": "3.8.10"
  }
 },
 "nbformat": 4,
 "nbformat_minor": 5
}
