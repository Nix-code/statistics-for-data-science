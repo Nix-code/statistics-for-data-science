{
 "cells": [
  {
   "cell_type": "markdown",
   "id": "d0e07acb",
   "metadata": {},
   "source": [
    "### Statistics from scratch"
   ]
  },
  {
   "cell_type": "code",
   "execution_count": 1,
   "id": "8bbfe325",
   "metadata": {},
   "outputs": [],
   "source": [
    "import numpy as np\n",
    "import matplotlib.pyplot as plt"
   ]
  },
  {
   "cell_type": "code",
   "execution_count": 2,
   "id": "79212797",
   "metadata": {},
   "outputs": [],
   "source": [
    "data = [3.4,2.5, 4.8, 2.9, 3.6,\n",
    "2.8 ,3.3 ,5.6 ,3.7 ,2.8,\n",
    "4.4 ,4.0 ,5.2 ,3.0, 4.8]"
   ]
  },
  {
   "cell_type": "markdown",
   "id": "5f110f38",
   "metadata": {},
   "source": [
    "#### Questions"
   ]
  },
  {
   "cell_type": "markdown",
   "id": "09b95766",
   "metadata": {},
   "source": [
    "What is the sample size for the above sample?"
   ]
  },
  {
   "cell_type": "code",
   "execution_count": 3,
   "id": "d87dbc5c",
   "metadata": {},
   "outputs": [
    {
     "name": "stdout",
     "output_type": "stream",
     "text": [
      "15\n"
     ]
    }
   ],
   "source": [
    "sample_size = 0\n",
    "for i in data:\n",
    "    sample_size +=1\n",
    "print(sample_size)"
   ]
  },
  {
   "cell_type": "code",
   "execution_count": 4,
   "id": "3f2f4d2b",
   "metadata": {},
   "outputs": [
    {
     "name": "stdout",
     "output_type": "stream",
     "text": [
      "15\n"
     ]
    }
   ],
   "source": [
    "print(len(data))"
   ]
  },
  {
   "cell_type": "markdown",
   "id": "ce564a84",
   "metadata": {},
   "source": [
    "Calculate the sample mean for these data."
   ]
  },
  {
   "cell_type": "code",
   "execution_count": 5,
   "id": "a38be601",
   "metadata": {},
   "outputs": [
    {
     "name": "stdout",
     "output_type": "stream",
     "text": [
      "3.7866666666666666\n"
     ]
    }
   ],
   "source": [
    "\n",
    "sum = 0\n",
    "for i in data:\n",
    "    sum +=i\n",
    "mean = sum / sample_size\n",
    "\n",
    "print(mean)"
   ]
  },
  {
   "cell_type": "code",
   "execution_count": 6,
   "id": "b37aa955",
   "metadata": {},
   "outputs": [
    {
     "data": {
      "text/plain": [
       "3.7866666666666666"
      ]
     },
     "execution_count": 6,
     "metadata": {},
     "output_type": "execute_result"
    }
   ],
   "source": [
    "mu = np.mean(data)\n",
    "mu"
   ]
  },
  {
   "cell_type": "markdown",
   "id": "e435b288",
   "metadata": {},
   "source": [
    "Calculate the sample median."
   ]
  },
  {
   "cell_type": "code",
   "execution_count": 7,
   "id": "9df6c68a",
   "metadata": {},
   "outputs": [
    {
     "data": {
      "text/plain": [
       "3.6"
      ]
     },
     "execution_count": 7,
     "metadata": {},
     "output_type": "execute_result"
    }
   ],
   "source": [
    "np.median(data)"
   ]
  },
  {
   "cell_type": "code",
   "execution_count": 17,
   "id": "7affc500",
   "metadata": {},
   "outputs": [
    {
     "data": {
      "text/plain": [
       "8.0"
      ]
     },
     "execution_count": 17,
     "metadata": {},
     "output_type": "execute_result"
    }
   ],
   "source": [
    "md= (sample_size+1)/2\n",
    "md"
   ]
  },
  {
   "cell_type": "code",
   "execution_count": 26,
   "id": "bb92ac78",
   "metadata": {},
   "outputs": [
    {
     "name": "stdout",
     "output_type": "stream",
     "text": [
      "3.6\n"
     ]
    }
   ],
   "source": [
    "data_temp = sorted(data)\n",
    "for i in range(1, len(data)):\n",
    "    if i == md:\n",
    "        print(data_temp[i-1])\n",
    "        break"
   ]
  },
  {
   "cell_type": "markdown",
   "id": "3ed68fe4",
   "metadata": {},
   "source": [
    "Compute the 10% trimmed mean."
   ]
  },
  {
   "cell_type": "code",
   "execution_count": 51,
   "id": "e9f9b39b",
   "metadata": {},
   "outputs": [
    {
     "name": "stdout",
     "output_type": "stream",
     "text": [
      "3.7461538461538457\n"
     ]
    }
   ],
   "source": [
    "trim = int(np.floor(0.1*len(data_temp)))\n",
    "sum = 0\n",
    "data_new = []\n",
    "for i in range(trim, len(data_temp)-1):\n",
    "    data_new.append(data_temp[i])\n",
    "for i in data_new:\n",
    "    sum +=i\n",
    "trimmed_mean = sum/len(data_new)\n",
    "print(trimmed_mean)"
   ]
  },
  {
   "cell_type": "code",
   "execution_count": 39,
   "id": "0b87d1b1",
   "metadata": {},
   "outputs": [],
   "source": [
    "from scipy import stats"
   ]
  },
  {
   "cell_type": "code",
   "execution_count": 41,
   "id": "bd55f3c4",
   "metadata": {},
   "outputs": [
    {
     "data": {
      "text/plain": [
       "3.7461538461538457"
      ]
     },
     "execution_count": 41,
     "metadata": {},
     "output_type": "execute_result"
    }
   ],
   "source": [
    "stats.trim_mean(data_temp,  0.1)"
   ]
  },
  {
   "cell_type": "markdown",
   "id": "bef4fc77",
   "metadata": {},
   "source": [
    "Using only the values of the mean, median, and\n",
    "trimmed mean, do you have evidence of outliers in\n",
    "the data?"
   ]
  },
  {
   "cell_type": "code",
   "execution_count": 55,
   "id": "027c7865",
   "metadata": {},
   "outputs": [
    {
     "name": "stdout",
     "output_type": "stream",
     "text": [
      "Mean  3.7866666666666666\n",
      "Median  3.6\n",
      "Trimmed Mean:  3.7461538461538457\n"
     ]
    }
   ],
   "source": [
    "### Summary\n",
    "\n",
    "print(\"Mean \",np.mean(data_temp))\n",
    "print(\"Median \",np.median(data_temp))\n",
    "print(\"Trimmed Mean: \", stats.trim_mean(data_temp, 0.1))"
   ]
  },
  {
   "cell_type": "markdown",
   "id": "1152b8a2",
   "metadata": {},
   "source": [
    "No, there is no outliers,as mean , median and the trimmed mean are close to eachother"
   ]
  },
  {
   "cell_type": "code",
   "execution_count": null,
   "id": "5146cc59",
   "metadata": {},
   "outputs": [],
   "source": []
  }
 ],
 "metadata": {
  "kernelspec": {
   "display_name": "Python 3 (ipykernel)",
   "language": "python",
   "name": "python3"
  },
  "language_info": {
   "codemirror_mode": {
    "name": "ipython",
    "version": 3
   },
   "file_extension": ".py",
   "mimetype": "text/x-python",
   "name": "python",
   "nbconvert_exporter": "python",
   "pygments_lexer": "ipython3",
   "version": "3.8.10"
  }
 },
 "nbformat": 4,
 "nbformat_minor": 5
}
