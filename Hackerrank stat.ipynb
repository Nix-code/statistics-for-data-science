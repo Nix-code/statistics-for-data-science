{
 "cells": [
  {
   "cell_type": "markdown",
   "id": "22fbc761",
   "metadata": {},
   "source": [
    "### 10 days of statistics Hackerrank\n"
   ]
  },
  {
   "cell_type": "code",
   "execution_count": 8,
   "id": "60987ba0",
   "metadata": {},
   "outputs": [
    {
     "name": "stdout",
     "output_type": "stream",
     "text": [
      "3\n",
      "1 2 3\n",
      "2.0\n",
      "2.0\n",
      "1\n"
     ]
    }
   ],
   "source": [
    "import numpy as np\n",
    "from scipy import stats\n",
    "\n",
    "x = int(input())\n",
    "\n",
    "l = list(map(int, input().split()))\n",
    "\n",
    "a = np.array(l)\n",
    "mean = np.mean(a)\n",
    "median = np.median(a)\n",
    "mode = stats.mode(a)\n",
    "mode = mode[0]\n",
    "mode = mode[0]\n",
    "\n",
    "\n",
    "print(mean)\n",
    "print(median)\n",
    "\n",
    "print(mode)"
   ]
  },
  {
   "cell_type": "markdown",
   "id": "ce054959",
   "metadata": {},
   "source": [
    "### Weighted Mean"
   ]
  },
  {
   "cell_type": "code",
   "execution_count": 16,
   "id": "6b1a74ea",
   "metadata": {},
   "outputs": [
    {
     "name": "stdout",
     "output_type": "stream",
     "text": [
      "1\n",
      "2\n",
      "3\n",
      "2.0\n"
     ]
    }
   ],
   "source": [
    "### !/bin/python3\n",
    "\n",
    "import math\n",
    "import os\n",
    "import random\n",
    "import re\n",
    "import sys\n",
    "\n",
    "#\n",
    "# Complete the 'weightedMean' function below.\n",
    "#\n",
    "# The function accepts following parameters:\n",
    "#  1. INTEGER_ARRAY X\n",
    "#  2. INTEGER_ARRAY W\n",
    "#\n",
    "\n",
    "def weightedMean(X, W):\n",
    "    # Write your code here\n",
    "    s = 0\n",
    "    for i in range(len(X)):\n",
    "        s+= X[i]*W[i]\n",
    "    n=0\n",
    "    for i in W:\n",
    "        n+=i\n",
    "    soln = s/n\n",
    "    print(\"{:.1f}\".format(soln))\n",
    "   \n",
    "        \n",
    "\n",
    "if __name__ == '__main__':\n",
    "    n = int(input().strip())\n",
    "\n",
    "    vals = list(map(int, input().rstrip().split()))\n",
    "\n",
    "    weights = list(map(int, input().rstrip().split()))\n",
    "\n",
    "    weightedMean(vals, weights)\n"
   ]
  },
  {
   "cell_type": "markdown",
   "id": "7bddc44c",
   "metadata": {},
   "source": [
    "### STD"
   ]
  },
  {
   "cell_type": "code",
   "execution_count": 17,
   "id": "e4df1f34",
   "metadata": {},
   "outputs": [
    {
     "name": "stdout",
     "output_type": "stream",
     "text": [
      "1\n",
      "2\n",
      "0.0\n"
     ]
    }
   ],
   "source": [
    "#!/bin/python3\n",
    "\n",
    "import math\n",
    "import os\n",
    "import random\n",
    "import re\n",
    "import sys\n",
    "\n",
    "\n",
    "#\n",
    "# Complete the 'stdDev' function below.\n",
    "#\n",
    "# The function accepts INTEGER_ARRAY arr as parameter.\n",
    "#\n",
    "\n",
    "def stdDev(arr):\n",
    "    # Print your answers to 1 decimal place within this function\n",
    "    s = 0\n",
    "    h = 0\n",
    "    for i in arr:\n",
    "        h+=i\n",
    "    u = h/len(arr)\n",
    "    for i in range(len(arr)):\n",
    "        t = (arr[i]-u)**2\n",
    "        s+=t\n",
    "    va = s/len(arr)\n",
    "    st = math.sqrt(va)\n",
    "    \n",
    "    print(\"{:.1f}\".format(st))\n",
    "        \n",
    "\n",
    "if __name__ == '__main__':\n",
    "    n = int(input().strip())\n",
    "\n",
    "    vals = list(map(int, input().rstrip().split()))\n",
    "\n",
    "    stdDev(vals)\n"
   ]
  },
  {
   "cell_type": "code",
   "execution_count": 20,
   "id": "2a71e0e7",
   "metadata": {},
   "outputs": [
    {
     "data": {
      "text/plain": [
       "1.5"
      ]
     },
     "execution_count": 20,
     "metadata": {},
     "output_type": "execute_result"
    }
   ],
   "source": [
    "x = np.array([1,2,3])\n",
    "np.quantile(x,.25)"
   ]
  }
 ],
 "metadata": {
  "kernelspec": {
   "display_name": "Python 3 (ipykernel)",
   "language": "python",
   "name": "python3"
  },
  "language_info": {
   "codemirror_mode": {
    "name": "ipython",
    "version": 3
   },
   "file_extension": ".py",
   "mimetype": "text/x-python",
   "name": "python",
   "nbconvert_exporter": "python",
   "pygments_lexer": "ipython3",
   "version": "3.8.10"
  }
 },
 "nbformat": 4,
 "nbformat_minor": 5
}
